{
  "nbformat": 4,
  "nbformat_minor": 0,
  "metadata": {
    "colab": {
      "provenance": [],
      "gpuType": "T4",
      "authorship_tag": "ABX9TyP35GCOMMDBnz/aoSk+q80g",
      "include_colab_link": true
    },
    "kernelspec": {
      "name": "python3",
      "display_name": "Python 3"
    },
    "language_info": {
      "name": "python"
    },
    "accelerator": "GPU"
  },
  "cells": [
    {
      "cell_type": "markdown",
      "metadata": {
        "id": "view-in-github",
        "colab_type": "text"
      },
      "source": [
        "<a href=\"https://colab.research.google.com/github/Poojakamble24/Deep_Learning/blob/main/Handwritten%20Digit_classification.ipynb\" target=\"_parent\"><img src=\"https://colab.research.google.com/assets/colab-badge.svg\" alt=\"Open In Colab\"/></a>"
      ]
    },
    {
      "cell_type": "code",
      "execution_count": 106,
      "metadata": {
        "id": "y11fvKkQE1fs"
      },
      "outputs": [],
      "source": []
    },
    {
      "cell_type": "markdown",
      "source": [
        "### Handwritten Digit Classification Project\n"
      ],
      "metadata": {
        "id": "VG-b6qZ3E8Bs"
      }
    },
    {
      "cell_type": "code",
      "source": [],
      "metadata": {
        "id": "Sjo-RCmwFF5a"
      },
      "execution_count": 106,
      "outputs": []
    },
    {
      "cell_type": "code",
      "source": [
        "from warnings import filterwarnings\n",
        "filterwarnings(\"ignore\")"
      ],
      "metadata": {
        "id": "H2-dWktDFJhr"
      },
      "execution_count": 107,
      "outputs": []
    },
    {
      "cell_type": "code",
      "source": [],
      "metadata": {
        "id": "78tgIvw1FSZS"
      },
      "execution_count": 107,
      "outputs": []
    },
    {
      "cell_type": "markdown",
      "source": [
        "### Load MNIST dataset\n"
      ],
      "metadata": {
        "id": "ztWd2pYFFcuM"
      }
    },
    {
      "cell_type": "code",
      "source": [
        "from keras.datasets import mnist\n",
        "(x_train, y_train), (x_test, y_test) = mnist.load_data()"
      ],
      "metadata": {
        "id": "vzJNYMGXFkRH"
      },
      "execution_count": 108,
      "outputs": []
    },
    {
      "cell_type": "code",
      "source": [
        "x_train.shape"
      ],
      "metadata": {
        "colab": {
          "base_uri": "https://localhost:8080/"
        },
        "id": "xCmfSyD-GIO2",
        "outputId": "687bc25a-f9ee-43df-b513-5de5418a0e1e"
      },
      "execution_count": 109,
      "outputs": [
        {
          "output_type": "execute_result",
          "data": {
            "text/plain": [
              "(60000, 28, 28)"
            ]
          },
          "metadata": {},
          "execution_count": 109
        }
      ]
    },
    {
      "cell_type": "code",
      "source": [
        "x_train"
      ],
      "metadata": {
        "colab": {
          "base_uri": "https://localhost:8080/"
        },
        "id": "8N_ChopIGYa2",
        "outputId": "d7f98157-1593-4375-df73-c1bf75876cea"
      },
      "execution_count": 110,
      "outputs": [
        {
          "output_type": "execute_result",
          "data": {
            "text/plain": [
              "array([[[0, 0, 0, ..., 0, 0, 0],\n",
              "        [0, 0, 0, ..., 0, 0, 0],\n",
              "        [0, 0, 0, ..., 0, 0, 0],\n",
              "        ...,\n",
              "        [0, 0, 0, ..., 0, 0, 0],\n",
              "        [0, 0, 0, ..., 0, 0, 0],\n",
              "        [0, 0, 0, ..., 0, 0, 0]],\n",
              "\n",
              "       [[0, 0, 0, ..., 0, 0, 0],\n",
              "        [0, 0, 0, ..., 0, 0, 0],\n",
              "        [0, 0, 0, ..., 0, 0, 0],\n",
              "        ...,\n",
              "        [0, 0, 0, ..., 0, 0, 0],\n",
              "        [0, 0, 0, ..., 0, 0, 0],\n",
              "        [0, 0, 0, ..., 0, 0, 0]],\n",
              "\n",
              "       [[0, 0, 0, ..., 0, 0, 0],\n",
              "        [0, 0, 0, ..., 0, 0, 0],\n",
              "        [0, 0, 0, ..., 0, 0, 0],\n",
              "        ...,\n",
              "        [0, 0, 0, ..., 0, 0, 0],\n",
              "        [0, 0, 0, ..., 0, 0, 0],\n",
              "        [0, 0, 0, ..., 0, 0, 0]],\n",
              "\n",
              "       ...,\n",
              "\n",
              "       [[0, 0, 0, ..., 0, 0, 0],\n",
              "        [0, 0, 0, ..., 0, 0, 0],\n",
              "        [0, 0, 0, ..., 0, 0, 0],\n",
              "        ...,\n",
              "        [0, 0, 0, ..., 0, 0, 0],\n",
              "        [0, 0, 0, ..., 0, 0, 0],\n",
              "        [0, 0, 0, ..., 0, 0, 0]],\n",
              "\n",
              "       [[0, 0, 0, ..., 0, 0, 0],\n",
              "        [0, 0, 0, ..., 0, 0, 0],\n",
              "        [0, 0, 0, ..., 0, 0, 0],\n",
              "        ...,\n",
              "        [0, 0, 0, ..., 0, 0, 0],\n",
              "        [0, 0, 0, ..., 0, 0, 0],\n",
              "        [0, 0, 0, ..., 0, 0, 0]],\n",
              "\n",
              "       [[0, 0, 0, ..., 0, 0, 0],\n",
              "        [0, 0, 0, ..., 0, 0, 0],\n",
              "        [0, 0, 0, ..., 0, 0, 0],\n",
              "        ...,\n",
              "        [0, 0, 0, ..., 0, 0, 0],\n",
              "        [0, 0, 0, ..., 0, 0, 0],\n",
              "        [0, 0, 0, ..., 0, 0, 0]]], dtype=uint8)"
            ]
          },
          "metadata": {},
          "execution_count": 110
        }
      ]
    },
    {
      "cell_type": "code",
      "source": [
        "y_train"
      ],
      "metadata": {
        "colab": {
          "base_uri": "https://localhost:8080/"
        },
        "id": "XBM_2d76Gecn",
        "outputId": "cf7ad8f5-7d74-4903-f432-27537357942b"
      },
      "execution_count": 111,
      "outputs": [
        {
          "output_type": "execute_result",
          "data": {
            "text/plain": [
              "array([5, 0, 4, ..., 5, 6, 8], dtype=uint8)"
            ]
          },
          "metadata": {},
          "execution_count": 111
        }
      ]
    },
    {
      "cell_type": "code",
      "source": [
        "import matplotlib.pyplot as plt\n",
        "plt.imshow(x_train[0],cmap = \"gray\")"
      ],
      "metadata": {
        "colab": {
          "base_uri": "https://localhost:8080/",
          "height": 447
        },
        "id": "R66ESBOWGnEA",
        "outputId": "6368a4d4-6db6-4878-b608-796bee796db9"
      },
      "execution_count": 112,
      "outputs": [
        {
          "output_type": "execute_result",
          "data": {
            "text/plain": [
              "<matplotlib.image.AxesImage at 0x7f6cc05fb940>"
            ]
          },
          "metadata": {},
          "execution_count": 112
        },
        {
          "output_type": "display_data",
          "data": {
            "text/plain": [
              "<Figure size 640x480 with 1 Axes>"
            ],
            "image/png": "[encoded data removed]"
          },
          "metadata": {}
        }
      ]
    },
    {
      "cell_type": "code",
      "source": [
        "x_test.shape"
      ],
      "metadata": {
        "colab": {
          "base_uri": "https://localhost:8080/"
        },
        "id": "8GUzKSulG8qX",
        "outputId": "ab307c62-a249-4cc4-88fc-b6e5a4c3f907"
      },
      "execution_count": 113,
      "outputs": [
        {
          "output_type": "execute_result",
          "data": {
            "text/plain": [
              "(10000, 28, 28)"
            ]
          },
          "metadata": {},
          "execution_count": 113
        }
      ]
    },
    {
      "cell_type": "code",
      "source": [
        "y_test.shape"
      ],
      "metadata": {
        "colab": {
          "base_uri": "https://localhost:8080/"
        },
        "id": "NYmJ5d57HEm6",
        "outputId": "23cefc41-6fb9-494d-90b3-c9ac13376e16"
      },
      "execution_count": 114,
      "outputs": [
        {
          "output_type": "execute_result",
          "data": {
            "text/plain": [
              "(10000,)"
            ]
          },
          "metadata": {},
          "execution_count": 114
        }
      ]
    },
    {
      "cell_type": "code",
      "source": [
        "plt.imshow(x_test[0],cmap = \"gray\")"
      ],
      "metadata": {
        "colab": {
          "base_uri": "https://localhost:8080/",
          "height": 447
        },
        "id": "-xT9vnezHHBn",
        "outputId": "61ba99ca-3c2f-4b8d-91d7-cb51214a3e17"
      },
      "execution_count": 115,
      "outputs": [
        {
          "output_type": "execute_result",
          "data": {
            "text/plain": [
              "<matplotlib.image.AxesImage at 0x7f6cc065f850>"
            ]
          },
          "metadata": {},
          "execution_count": 115
        },
        {
          "output_type": "display_data",
          "data": {
            "text/plain": [
              "<Figure size 640x480 with 1 Axes>"
            ],
            "image/png": "[encoded data removed]"
          },
          "metadata": {}
        }
      ]
    },
    {
      "cell_type": "code",
      "source": [],
      "metadata": {
        "id": "Let89LYoHSQF"
      },
      "execution_count": 115,
      "outputs": []
    },
    {
      "cell_type": "markdown",
      "source": [
        "### Displaying first 9 images from train data\n"
      ],
      "metadata": {
        "id": "gafckPKlHYnf"
      }
    },
    {
      "cell_type": "code",
      "source": [
        "\n",
        "\n",
        "plt.figure(figsize = (10,10))\n",
        "for i in range(9):\n",
        "    plt.subplot(3,3,i+1)\n",
        "    plt.imshow(x_train[i],cmap = \"gray\")\n",
        "    plt.axis(\"off\")"
      ],
      "metadata": {
        "colab": {
          "base_uri": "https://localhost:8080/",
          "height": 807
        },
        "id": "7Klt95vnHeiU",
        "outputId": "fc8cc872-ab3d-4048-eaba-2bd20583b5b4"
      },
      "execution_count": 116,
      "outputs": [
        {
          "output_type": "display_data",
          "data": {
            "text/plain": [
              "<Figure size 1000x1000 with 9 Axes>"
            ],
            "image/png": "[encoded data removed]"
          },
          "metadata": {}
        }
      ]
    },
    {
      "cell_type": "code",
      "source": [
        "import numpy as np\n",
        "np.unique(y_train)"
      ],
      "metadata": {
        "colab": {
          "base_uri": "https://localhost:8080/"
        },
        "id": "igSyYei4Hxu0",
        "outputId": "10344398-bcf9-40a4-d936-8e8c8f79a8f2"
      },
      "execution_count": 117,
      "outputs": [
        {
          "output_type": "execute_result",
          "data": {
            "text/plain": [
              "array([0, 1, 2, 3, 4, 5, 6, 7, 8, 9], dtype=uint8)"
            ]
          },
          "metadata": {},
          "execution_count": 117
        }
      ]
    },
    {
      "cell_type": "code",
      "source": [
        "len(np.unique(y_train))"
      ],
      "metadata": {
        "colab": {
          "base_uri": "https://localhost:8080/"
        },
        "id": "UvD91T5UH-sE",
        "outputId": "a2510269-ef38-4fd5-8a21-7684c9edcab3"
      },
      "execution_count": 118,
      "outputs": [
        {
          "output_type": "execute_result",
          "data": {
            "text/plain": [
              "10"
            ]
          },
          "metadata": {},
          "execution_count": 118
        }
      ]
    },
    {
      "cell_type": "code",
      "source": [],
      "metadata": {
        "id": "YYTthZJJIK6c"
      },
      "execution_count": 118,
      "outputs": []
    },
    {
      "cell_type": "markdown",
      "source": [
        "### This is a multiclass classification problem\n",
        "### Preprocess image data\n",
        "### Pixel value 0-255\n",
        "\n"
      ],
      "metadata": {
        "id": "1t9nsF-MIZgn"
      }
    },
    {
      "cell_type": "code",
      "source": [
        "x_train_scl = x_train.astype (\"float32\")/255\n",
        "x_test_scl = x_test.astype (\"float32\")/255\n",
        "x_test_scaled = x_test/255"
      ],
      "metadata": {
        "id": "I482EnUkIwK4"
      },
      "execution_count": 119,
      "outputs": []
    },
    {
      "cell_type": "code",
      "source": [
        "x_train_scl[0]"
      ],
      "metadata": {
        "colab": {
          "base_uri": "https://localhost:8080/"
        },
        "id": "Cg2FempnJeGj",
        "outputId": "d6285cfb-b881-4d4d-ed57-6d541eaf3311"
      },
      "execution_count": 120,
      "outputs": [
        {
          "output_type": "execute_result",
          "data": {
            "text/plain": [
              "array([[0.        , 0.        , 0.        , 0.        , 0.        ,\n",
              "        0.        , 0.        , 0.        , 0.        , 0.        ,\n",
              "        0.        , 0.        , 0.        , 0.        , 0.        ,\n",
              "        0.        , 0.        , 0.        , 0.        , 0.        ,\n",
              "        0.        , 0.        , 0.        , 0.        , 0.        ,\n",
              "        0.        , 0.        , 0.        ],\n",
              "       [0.        , 0.        , 0.        , 0.        , 0.        ,\n",
              "        0.        , 0.        , 0.        , 0.        , 0.        ,\n",
              "        0.        , 0.        , 0.        , 0.        , 0.        ,\n",
              "        0.        , 0.        , 0.        , 0.        , 0.        ,\n",
              "        0.        , 0.        , 0.        , 0.        , 0.        ,\n",
              "        0.        , 0.        , 0.        ],\n",
              "       [0.        , 0.        , 0.        , 0.        , 0.        ,\n",
              "        0.        , 0.        , 0.        , 0.        , 0.        ,\n",
              "        0.        , 0.        , 0.        , 0.        , 0.        ,\n",
              "        0.        , 0.        , 0.        , 0.        , 0.        ,\n",
              "        0.        , 0.        , 0.        , 0.        , 0.        ,\n",
              "        0.        , 0.        , 0.        ],\n",
              "       [0.        , 0.        , 0.        , 0.        , 0.        ,\n",
              "        0.        , 0.        , 0.        , 0.        , 0.        ,\n",
              "        0.        , 0.        , 0.        , 0.        , 0.        ,\n",
              "        0.        , 0.        , 0.        , 0.        , 0.        ,\n",
              "        0.        , 0.        , 0.        , 0.        , 0.        ,\n",
              "        0.        , 0.        , 0.        ],\n",
              "       [0.        , 0.        , 0.        , 0.        , 0.        ,\n",
              "        0.        , 0.        , 0.        , 0.        , 0.        ,\n",
              "        0.        , 0.        , 0.        , 0.        , 0.        ,\n",
              "        0.        , 0.        , 0.        , 0.        , 0.        ,\n",
              "        0.        , 0.        , 0.        , 0.        , 0.        ,\n",
              "        0.        , 0.        , 0.        ],\n",
              "       [0.        , 0.        , 0.        , 0.        , 0.        ,\n",
              "        0.        , 0.        , 0.        , 0.        , 0.        ,\n",
              "        0.        , 0.        , 0.01176471, 0.07058824, 0.07058824,\n",
              "        0.07058824, 0.49411765, 0.53333336, 0.6862745 , 0.10196079,\n",
              "        0.6509804 , 1.        , 0.96862745, 0.49803922, 0.        ,\n",
              "        0.        , 0.        , 0.        ],\n",
              "       [0.        , 0.        , 0.        , 0.        , 0.        ,\n",
              "        0.        , 0.        , 0.        , 0.11764706, 0.14117648,\n",
              "        0.36862746, 0.6039216 , 0.6666667 , 0.99215686, 0.99215686,\n",
              "        0.99215686, 0.99215686, 0.99215686, 0.88235295, 0.6745098 ,\n",
              "        0.99215686, 0.9490196 , 0.7647059 , 0.2509804 , 0.        ,\n",
              "        0.        , 0.        , 0.        ],\n",
              "       [0.        , 0.        , 0.        , 0.        , 0.        ,\n",
              "        0.        , 0.        , 0.19215687, 0.93333334, 0.99215686,\n",
              "        0.99215686, 0.99215686, 0.99215686, 0.99215686, 0.99215686,\n",
              "        0.99215686, 0.99215686, 0.9843137 , 0.3647059 , 0.32156864,\n",
              "        0.32156864, 0.21960784, 0.15294118, 0.        , 0.        ,\n",
              "        0.        , 0.        , 0.        ],\n",
              "       [0.        , 0.        , 0.        , 0.        , 0.        ,\n",
              "        0.        , 0.        , 0.07058824, 0.85882354, 0.99215686,\n",
              "        0.99215686, 0.99215686, 0.99215686, 0.99215686, 0.7764706 ,\n",
              "        0.7137255 , 0.96862745, 0.94509804, 0.        , 0.        ,\n",
              "        0.        , 0.        , 0.        , 0.        , 0.        ,\n",
              "        0.        , 0.        , 0.        ],\n",
              "       [0.        , 0.        , 0.        , 0.        , 0.        ,\n",
              "        0.        , 0.        , 0.        , 0.3137255 , 0.6117647 ,\n",
              "        0.41960785, 0.99215686, 0.99215686, 0.8039216 , 0.04313726,\n",
              "        0.        , 0.16862746, 0.6039216 , 0.        , 0.        ,\n",
              "        0.        , 0.        , 0.        , 0.        , 0.        ,\n",
              "        0.        , 0.        , 0.        ],\n",
              "       [0.        , 0.        , 0.        , 0.        , 0.        ,\n",
              "        0.        , 0.        , 0.        , 0.        , 0.05490196,\n",
              "        0.00392157, 0.6039216 , 0.99215686, 0.3529412 , 0.        ,\n",
              "        0.        , 0.        , 0.        , 0.        , 0.        ,\n",
              "        0.        , 0.        , 0.        , 0.        , 0.        ,\n",
              "        0.        , 0.        , 0.        ],\n",
              "       [0.        , 0.        , 0.        , 0.        , 0.        ,\n",
              "        0.        , 0.        , 0.        , 0.        , 0.        ,\n",
              "        0.        , 0.54509807, 0.99215686, 0.74509805, 0.00784314,\n",
              "        0.        , 0.        , 0.        , 0.        , 0.        ,\n",
              "        0.        , 0.        , 0.        , 0.        , 0.        ,\n",
              "        0.        , 0.        , 0.        ],\n",
              "       [0.        , 0.        , 0.        , 0.        , 0.        ,\n",
              "        0.        , 0.        , 0.        , 0.        , 0.        ,\n",
              "        0.        , 0.04313726, 0.74509805, 0.99215686, 0.27450982,\n",
              "        0.        , 0.        , 0.        , 0.        , 0.        ,\n",
              "        0.        , 0.        , 0.        , 0.        , 0.        ,\n",
              "        0.        , 0.        , 0.        ],\n",
              "       [0.        , 0.        , 0.        , 0.        , 0.        ,\n",
              "        0.        , 0.        , 0.        , 0.        , 0.        ,\n",
              "        0.        , 0.        , 0.13725491, 0.94509804, 0.88235295,\n",
              "        0.627451  , 0.42352942, 0.00392157, 0.        , 0.        ,\n",
              "        0.        , 0.        , 0.        , 0.        , 0.        ,\n",
              "        0.        , 0.        , 0.        ],\n",
              "       [0.        , 0.        , 0.        , 0.        , 0.        ,\n",
              "        0.        , 0.        , 0.        , 0.        , 0.        ,\n",
              "        0.        , 0.        , 0.        , 0.31764707, 0.9411765 ,\n",
              "        0.99215686, 0.99215686, 0.46666667, 0.09803922, 0.        ,\n",
              "        0.        , 0.        , 0.        , 0.        , 0.        ,\n",
              "        0.        , 0.        , 0.        ],\n",
              "       [0.        , 0.        , 0.        , 0.        , 0.        ,\n",
              "        0.        , 0.        , 0.        , 0.        , 0.        ,\n",
              "        0.        , 0.        , 0.        , 0.        , 0.1764706 ,\n",
              "        0.7294118 , 0.99215686, 0.99215686, 0.5882353 , 0.10588235,\n",
              "        0.        , 0.        , 0.        , 0.        , 0.        ,\n",
              "        0.        , 0.        , 0.        ],\n",
              "       [0.        , 0.        , 0.        , 0.        , 0.        ,\n",
              "        0.        , 0.        , 0.        , 0.        , 0.        ,\n",
              "        0.        , 0.        , 0.        , 0.        , 0.        ,\n",
              "        0.0627451 , 0.3647059 , 0.9882353 , 0.99215686, 0.73333335,\n",
              "        0.        , 0.        , 0.        , 0.        , 0.        ,\n",
              "        0.        , 0.        , 0.        ],\n",
              "       [0.        , 0.        , 0.        , 0.        , 0.        ,\n",
              "        0.        , 0.        , 0.        , 0.        , 0.        ,\n",
              "        0.        , 0.        , 0.        , 0.        , 0.        ,\n",
              "        0.        , 0.        , 0.9764706 , 0.99215686, 0.9764706 ,\n",
              "        0.2509804 , 0.        , 0.        , 0.        , 0.        ,\n",
              "        0.        , 0.        , 0.        ],\n",
              "       [0.        , 0.        , 0.        , 0.        , 0.        ,\n",
              "        0.        , 0.        , 0.        , 0.        , 0.        ,\n",
              "        0.        , 0.        , 0.        , 0.        , 0.18039216,\n",
              "        0.50980395, 0.7176471 , 0.99215686, 0.99215686, 0.8117647 ,\n",
              "        0.00784314, 0.        , 0.        , 0.        , 0.        ,\n",
              "        0.        , 0.        , 0.        ],\n",
              "       [0.        , 0.        , 0.        , 0.        , 0.        ,\n",
              "        0.        , 0.        , 0.        , 0.        , 0.        ,\n",
              "        0.        , 0.        , 0.15294118, 0.5803922 , 0.8980392 ,\n",
              "        0.99215686, 0.99215686, 0.99215686, 0.98039216, 0.7137255 ,\n",
              "        0.        , 0.        , 0.        , 0.        , 0.        ,\n",
              "        0.        , 0.        , 0.        ],\n",
              "       [0.        , 0.        , 0.        , 0.        , 0.        ,\n",
              "        0.        , 0.        , 0.        , 0.        , 0.        ,\n",
              "        0.09411765, 0.44705883, 0.8666667 , 0.99215686, 0.99215686,\n",
              "        0.99215686, 0.99215686, 0.7882353 , 0.30588236, 0.        ,\n",
              "        0.        , 0.        , 0.        , 0.        , 0.        ,\n",
              "        0.        , 0.        , 0.        ],\n",
              "       [0.        , 0.        , 0.        , 0.        , 0.        ,\n",
              "        0.        , 0.        , 0.        , 0.09019608, 0.25882354,\n",
              "        0.8352941 , 0.99215686, 0.99215686, 0.99215686, 0.99215686,\n",
              "        0.7764706 , 0.31764707, 0.00784314, 0.        , 0.        ,\n",
              "        0.        , 0.        , 0.        , 0.        , 0.        ,\n",
              "        0.        , 0.        , 0.        ],\n",
              "       [0.        , 0.        , 0.        , 0.        , 0.        ,\n",
              "        0.        , 0.07058824, 0.67058825, 0.85882354, 0.99215686,\n",
              "        0.99215686, 0.99215686, 0.99215686, 0.7647059 , 0.3137255 ,\n",
              "        0.03529412, 0.        , 0.        , 0.        , 0.        ,\n",
              "        0.        , 0.        , 0.        , 0.        , 0.        ,\n",
              "        0.        , 0.        , 0.        ],\n",
              "       [0.        , 0.        , 0.        , 0.        , 0.21568628,\n",
              "        0.6745098 , 0.8862745 , 0.99215686, 0.99215686, 0.99215686,\n",
              "        0.99215686, 0.95686275, 0.52156866, 0.04313726, 0.        ,\n",
              "        0.        , 0.        , 0.        , 0.        , 0.        ,\n",
              "        0.        , 0.        , 0.        , 0.        , 0.        ,\n",
              "        0.        , 0.        , 0.        ],\n",
              "       [0.        , 0.        , 0.        , 0.        , 0.53333336,\n",
              "        0.99215686, 0.99215686, 0.99215686, 0.83137256, 0.5294118 ,\n",
              "        0.5176471 , 0.0627451 , 0.        , 0.        , 0.        ,\n",
              "        0.        , 0.        , 0.        , 0.        , 0.        ,\n",
              "        0.        , 0.        , 0.        , 0.        , 0.        ,\n",
              "        0.        , 0.        , 0.        ],\n",
              "       [0.        , 0.        , 0.        , 0.        , 0.        ,\n",
              "        0.        , 0.        , 0.        , 0.        , 0.        ,\n",
              "        0.        , 0.        , 0.        , 0.        , 0.        ,\n",
              "        0.        , 0.        , 0.        , 0.        , 0.        ,\n",
              "        0.        , 0.        , 0.        , 0.        , 0.        ,\n",
              "        0.        , 0.        , 0.        ],\n",
              "       [0.        , 0.        , 0.        , 0.        , 0.        ,\n",
              "        0.        , 0.        , 0.        , 0.        , 0.        ,\n",
              "        0.        , 0.        , 0.        , 0.        , 0.        ,\n",
              "        0.        , 0.        , 0.        , 0.        , 0.        ,\n",
              "        0.        , 0.        , 0.        , 0.        , 0.        ,\n",
              "        0.        , 0.        , 0.        ],\n",
              "       [0.        , 0.        , 0.        , 0.        , 0.        ,\n",
              "        0.        , 0.        , 0.        , 0.        , 0.        ,\n",
              "        0.        , 0.        , 0.        , 0.        , 0.        ,\n",
              "        0.        , 0.        , 0.        , 0.        , 0.        ,\n",
              "        0.        , 0.        , 0.        , 0.        , 0.        ,\n",
              "        0.        , 0.        , 0.        ]], dtype=float32)"
            ]
          },
          "metadata": {},
          "execution_count": 120
        }
      ]
    },
    {
      "cell_type": "code",
      "source": [],
      "metadata": {
        "id": "pX5APB5lJlk0"
      },
      "execution_count": 120,
      "outputs": []
    },
    {
      "cell_type": "markdown",
      "source": [
        " ### one hot encode the y features\n"
      ],
      "metadata": {
        "id": "jLs9XkGKJsyV"
      }
    },
    {
      "cell_type": "code",
      "source": [
        "from keras.utils import to_categorical\n",
        "y_train_cat = to_categorical(y_train)\n",
        "y_test_cat = to_categorical(y_test)"
      ],
      "metadata": {
        "id": "0WqQTOatJxec"
      },
      "execution_count": 121,
      "outputs": []
    },
    {
      "cell_type": "code",
      "source": [
        "y_train[0:5]"
      ],
      "metadata": {
        "colab": {
          "base_uri": "https://localhost:8080/"
        },
        "id": "FfVJuQ25KA_6",
        "outputId": "2bf0d9d5-29ef-458f-9199-852bf2fcab68"
      },
      "execution_count": 122,
      "outputs": [
        {
          "output_type": "execute_result",
          "data": {
            "text/plain": [
              "array([5, 0, 4, 1, 9], dtype=uint8)"
            ]
          },
          "metadata": {},
          "execution_count": 122
        }
      ]
    },
    {
      "cell_type": "code",
      "source": [
        "y_train_cat[0:5]"
      ],
      "metadata": {
        "colab": {
          "base_uri": "https://localhost:8080/"
        },
        "id": "ysa01Yz5KOv_",
        "outputId": "5d5fbed7-cc66-40e3-fdf8-3ab8cd92d662"
      },
      "execution_count": 123,
      "outputs": [
        {
          "output_type": "execute_result",
          "data": {
            "text/plain": [
              "array([[0., 0., 0., 0., 0., 1., 0., 0., 0., 0.],\n",
              "       [1., 0., 0., 0., 0., 0., 0., 0., 0., 0.],\n",
              "       [0., 0., 0., 0., 1., 0., 0., 0., 0., 0.],\n",
              "       [0., 1., 0., 0., 0., 0., 0., 0., 0., 0.],\n",
              "       [0., 0., 0., 0., 0., 0., 0., 0., 0., 1.]], dtype=float32)"
            ]
          },
          "metadata": {},
          "execution_count": 123
        }
      ]
    },
    {
      "cell_type": "code",
      "source": [
        "y_test[0:5]"
      ],
      "metadata": {
        "colab": {
          "base_uri": "https://localhost:8080/"
        },
        "id": "WOq9FELOKR1D",
        "outputId": "a765607e-9056-43c4-edaf-87b7914c3130"
      },
      "execution_count": 124,
      "outputs": [
        {
          "output_type": "execute_result",
          "data": {
            "text/plain": [
              "array([7, 2, 1, 0, 4], dtype=uint8)"
            ]
          },
          "metadata": {},
          "execution_count": 124
        }
      ]
    },
    {
      "cell_type": "code",
      "source": [
        "y_test_cat[0:5]"
      ],
      "metadata": {
        "colab": {
          "base_uri": "https://localhost:8080/"
        },
        "id": "KN7rn-3aKY4V",
        "outputId": "075c18f6-5216-4b53-c604-2339002c7122"
      },
      "execution_count": 125,
      "outputs": [
        {
          "output_type": "execute_result",
          "data": {
            "text/plain": [
              "array([[0., 0., 0., 0., 0., 0., 0., 1., 0., 0.],\n",
              "       [0., 0., 1., 0., 0., 0., 0., 0., 0., 0.],\n",
              "       [0., 1., 0., 0., 0., 0., 0., 0., 0., 0.],\n",
              "       [1., 0., 0., 0., 0., 0., 0., 0., 0., 0.],\n",
              "       [0., 0., 0., 0., 1., 0., 0., 0., 0., 0.]], dtype=float32)"
            ]
          },
          "metadata": {},
          "execution_count": 125
        }
      ]
    },
    {
      "cell_type": "code",
      "source": [
        "x_train.shape"
      ],
      "metadata": {
        "colab": {
          "base_uri": "https://localhost:8080/"
        },
        "id": "gc_30RouKbwe",
        "outputId": "0d5b21db-3f94-4f7d-d44a-2b4c97d1717c"
      },
      "execution_count": 126,
      "outputs": [
        {
          "output_type": "execute_result",
          "data": {
            "text/plain": [
              "(60000, 28, 28)"
            ]
          },
          "metadata": {},
          "execution_count": 126
        }
      ]
    },
    {
      "cell_type": "code",
      "source": [
        "y_train.shape"
      ],
      "metadata": {
        "colab": {
          "base_uri": "https://localhost:8080/"
        },
        "id": "ZLfu_XR8KmbT",
        "outputId": "6ea84427-6c1b-4d50-f8fc-cd8a4d33a175"
      },
      "execution_count": 127,
      "outputs": [
        {
          "output_type": "execute_result",
          "data": {
            "text/plain": [
              "(60000,)"
            ]
          },
          "metadata": {},
          "execution_count": 127
        }
      ]
    },
    {
      "cell_type": "code",
      "source": [],
      "metadata": {
        "id": "zL0XgAvsKodL"
      },
      "execution_count": 127,
      "outputs": []
    },
    {
      "cell_type": "markdown",
      "source": [
        "### Build the neural network\n",
        "\n",
        "### Simple Covnet architecture\n"
      ],
      "metadata": {
        "id": "xzuH3d24KtNJ"
      }
    },
    {
      "cell_type": "code",
      "source": [
        "from keras.models import Sequential\n",
        "from keras.layers import Input, Conv2D, MaxPooling2D, Flatten, Dense, Dropout\n",
        "\n"
      ],
      "metadata": {
        "id": "kulR_4SZKwbG"
      },
      "execution_count": 128,
      "outputs": []
    },
    {
      "cell_type": "code",
      "source": [
        "model = Sequential()\n",
        "\n",
        "# added input layer\n",
        "model.add(Input(shape = (28,28,1)))\n",
        "\n",
        "# add convulation layer\n",
        "model.add(Conv2D(filters = 32, kernel_size = (3,3),  activation = 'relu'))\n",
        "\n",
        "# Add max poling1\n",
        "model.add(MaxPooling2D(pool_size = (2,2)))\n",
        "\n",
        "# add conculation layer\n",
        "model.add(Conv2D(filters = 64, kernel_size = (3,3),  activation = 'relu'))\n",
        "\n",
        "#  max poling2\n",
        "model.add(MaxPooling2D(pool_size = (2,2)))\n",
        "\n",
        "# add flatten layer\n",
        "model.add(Flatten())\n",
        "\n",
        "# add droup layer\n",
        "model.add(Dropout (0.5))\n",
        "\n",
        "# output layer\n",
        "model.add(Dense(y_train_cat.shape[1],activation = 'softmax'))\n",
        "\n"
      ],
      "metadata": {
        "id": "WEi5Hi5QLZXY"
      },
      "execution_count": 129,
      "outputs": []
    },
    {
      "cell_type": "code",
      "source": [
        "model.summary()"
      ],
      "metadata": {
        "colab": {
          "base_uri": "https://localhost:8080/"
        },
        "id": "WSw9H4uZMP8z",
        "outputId": "d6885935-6397-45a3-9dee-71a18f34dc58"
      },
      "execution_count": 130,
      "outputs": [
        {
          "output_type": "stream",
          "name": "stdout",
          "text": [
            "Model: \"sequential_3\"\n",
            "_________________________________________________________________\n",
            " Layer (type)                Output Shape              Param #   \n",
            "=================================================================\n",
            " conv2d_5 (Conv2D)           (None, 26, 26, 32)        320       \n",
            "                                                                 \n",
            " max_pooling2d_4 (MaxPoolin  (None, 13, 13, 32)        0         \n",
            " g2D)                                                            \n",
            "                                                                 \n",
            " conv2d_6 (Conv2D)           (None, 11, 11, 64)        18496     \n",
            "                                                                 \n",
            " max_pooling2d_5 (MaxPoolin  (None, 5, 5, 64)          0         \n",
            " g2D)                                                            \n",
            "                                                                 \n",
            " flatten_2 (Flatten)         (None, 1600)              0         \n",
            "                                                                 \n",
            " dropout_2 (Dropout)         (None, 1600)              0         \n",
            "                                                                 \n",
            " dense_2 (Dense)             (None, 10)                16010     \n",
            "                                                                 \n",
            "=================================================================\n",
            "Total params: 34826 (136.04 KB)\n",
            "Trainable params: 34826 (136.04 KB)\n",
            "Non-trainable params: 0 (0.00 Byte)\n",
            "_________________________________________________________________\n"
          ]
        }
      ]
    },
    {
      "cell_type": "code",
      "source": [
        "model.compile(optimizer = 'adam', loss = 'categorical_crossentropy', metrics = ['accuracy'])\n",
        ""
      ],
      "metadata": {
        "id": "i_FYVEV0Pkmg"
      },
      "execution_count": 131,
      "outputs": []
    },
    {
      "cell_type": "code",
      "source": [
        "hist = model.fit(x_train_scl,y_train_cat,epochs = 15,validation_split = 0.1)\n",
        ""
      ],
      "metadata": {
        "colab": {
          "base_uri": "https://localhost:8080/"
        },
        "id": "1DmcKbjMPsrZ",
        "outputId": "ce615786-6a07-434b-b732-4fca2c65c70a"
      },
      "execution_count": 132,
      "outputs": [
        {
          "output_type": "stream",
          "name": "stdout",
          "text": [
            "Epoch 1/15\n",
            "1688/1688 [==============================] - 9s 5ms/step - loss: 0.2299 - accuracy: 0.9285 - val_loss: 0.0673 - val_accuracy: 0.9820\n",
            "Epoch 2/15\n",
            "1688/1688 [==============================] - 8s 5ms/step - loss: 0.0839 - accuracy: 0.9743 - val_loss: 0.0458 - val_accuracy: 0.9878\n",
            "Epoch 3/15\n",
            "1688/1688 [==============================] - 7s 4ms/step - loss: 0.0637 - accuracy: 0.9801 - val_loss: 0.0379 - val_accuracy: 0.9893\n",
            "Epoch 4/15\n",
            "1688/1688 [==============================] - 8s 5ms/step - loss: 0.0543 - accuracy: 0.9823 - val_loss: 0.0305 - val_accuracy: 0.9920\n",
            "Epoch 5/15\n",
            "1688/1688 [==============================] - 8s 5ms/step - loss: 0.0489 - accuracy: 0.9848 - val_loss: 0.0317 - val_accuracy: 0.9910\n",
            "Epoch 6/15\n",
            "1688/1688 [==============================] - 7s 4ms/step - loss: 0.0435 - accuracy: 0.9855 - val_loss: 0.0295 - val_accuracy: 0.9915\n",
            "Epoch 7/15\n",
            "1688/1688 [==============================] - 8s 5ms/step - loss: 0.0408 - accuracy: 0.9872 - val_loss: 0.0363 - val_accuracy: 0.9903\n",
            "Epoch 8/15\n",
            "1688/1688 [==============================] - 7s 4ms/step - loss: 0.0371 - accuracy: 0.9879 - val_loss: 0.0304 - val_accuracy: 0.9920\n",
            "Epoch 9/15\n",
            "1688/1688 [==============================] - 9s 5ms/step - loss: 0.0342 - accuracy: 0.9888 - val_loss: 0.0294 - val_accuracy: 0.9920\n",
            "Epoch 10/15\n",
            "1688/1688 [==============================] - 8s 5ms/step - loss: 0.0348 - accuracy: 0.9890 - val_loss: 0.0283 - val_accuracy: 0.9932\n",
            "Epoch 11/15\n",
            "1688/1688 [==============================] - 7s 4ms/step - loss: 0.0313 - accuracy: 0.9898 - val_loss: 0.0281 - val_accuracy: 0.9927\n",
            "Epoch 12/15\n",
            "1688/1688 [==============================] - 8s 5ms/step - loss: 0.0307 - accuracy: 0.9901 - val_loss: 0.0260 - val_accuracy: 0.9930\n",
            "Epoch 13/15\n",
            "1688/1688 [==============================] - 7s 4ms/step - loss: 0.0274 - accuracy: 0.9909 - val_loss: 0.0284 - val_accuracy: 0.9920\n",
            "Epoch 14/15\n",
            "1688/1688 [==============================] - 8s 5ms/step - loss: 0.0270 - accuracy: 0.9909 - val_loss: 0.0299 - val_accuracy: 0.9912\n",
            "Epoch 15/15\n",
            "1688/1688 [==============================] - 7s 4ms/step - loss: 0.0272 - accuracy: 0.9910 - val_loss: 0.0289 - val_accuracy: 0.9922\n"
          ]
        }
      ]
    },
    {
      "cell_type": "code",
      "source": [],
      "metadata": {
        "id": "TxxwQKCbPxMP"
      },
      "execution_count": 132,
      "outputs": []
    },
    {
      "cell_type": "markdown",
      "source": [
        "Plot the learning curve"
      ],
      "metadata": {
        "id": "u1BvekoQP_Ex"
      }
    },
    {
      "cell_type": "code",
      "source": [
        "plt.figure(figsize=(10, 5))\n",
        "plt.plot(hist.history['loss'], label='Train Loss')\n",
        "plt.plot(hist.history['val_loss'], label='Validation Loss')\n",
        "plt.title('Learning Curves')\n",
        "plt.ylabel('categorical crossentropy')\n",
        "plt.xlabel('epoch')\n",
        "plt.show()"
      ],
      "metadata": {
        "colab": {
          "base_uri": "https://localhost:8080/",
          "height": 487
        },
        "id": "rLImEAN2QCHv",
        "outputId": "064d2283-403e-4c75-e1c2-e34a26a723df"
      },
      "execution_count": 133,
      "outputs": [
        {
          "output_type": "display_data",
          "data": {
            "text/plain": [
              "<Figure size 1000x500 with 1 Axes>"
            ],
            "image/png": "[encoded data removed]"
          },
          "metadata": {}
        }
      ]
    },
    {
      "cell_type": "code",
      "source": [],
      "metadata": {
        "id": "pZR4a7iSQ9wV"
      },
      "execution_count": 133,
      "outputs": []
    },
    {
      "cell_type": "markdown",
      "source": [
        " ### Evaluate the model in train and test"
      ],
      "metadata": {
        "id": "23UF4A8TREIo"
      }
    },
    {
      "cell_type": "code",
      "source": [
        "model.evaluate(x_train_scl,y_train_cat)\n",
        ""
      ],
      "metadata": {
        "colab": {
          "base_uri": "https://localhost:8080/"
        },
        "id": "oksRnHrURHb4",
        "outputId": "885ffc3c-a543-41aa-df7d-b8830b380556"
      },
      "execution_count": 134,
      "outputs": [
        {
          "output_type": "stream",
          "name": "stdout",
          "text": [
            "1875/1875 [==============================] - 5s 3ms/step - loss: 0.0107 - accuracy: 0.9970\n"
          ]
        },
        {
          "output_type": "execute_result",
          "data": {
            "text/plain": [
              "[0.010650014504790306, 0.9969666600227356]"
            ]
          },
          "metadata": {},
          "execution_count": 134
        }
      ]
    },
    {
      "cell_type": "code",
      "source": [
        "model.evaluate(x_test_scl,y_test_cat)"
      ],
      "metadata": {
        "colab": {
          "base_uri": "https://localhost:8080/"
        },
        "id": "twq6Q8ocRMJl",
        "outputId": "4217305e-1f9c-49a5-b0f0-0afb7e66eb19"
      },
      "execution_count": 135,
      "outputs": [
        {
          "output_type": "stream",
          "name": "stdout",
          "text": [
            "313/313 [==============================] - 1s 4ms/step - loss: 0.0228 - accuracy: 0.9926\n"
          ]
        },
        {
          "output_type": "execute_result",
          "data": {
            "text/plain": [
              "[0.022821249440312386, 0.9926000237464905]"
            ]
          },
          "metadata": {},
          "execution_count": 135
        }
      ]
    },
    {
      "cell_type": "code",
      "source": [],
      "metadata": {
        "id": "lwxlpbfWRWUK"
      },
      "execution_count": 135,
      "outputs": []
    },
    {
      "cell_type": "markdown",
      "source": [
        "### Predict results for train and test"
      ],
      "metadata": {
        "id": "w_l1MLMbReqS"
      }
    },
    {
      "cell_type": "code",
      "source": [
        "yprob_train = model.predict(x_train_scl)\n",
        "yprob_test = model.predict(x_test_scl)"
      ],
      "metadata": {
        "colab": {
          "base_uri": "https://localhost:8080/"
        },
        "id": "LkzpixE8Ri2o",
        "outputId": "324c3a68-dada-4608-ee3c-9f63a9e5fc70"
      },
      "execution_count": 136,
      "outputs": [
        {
          "output_type": "stream",
          "name": "stdout",
          "text": [
            "1875/1875 [==============================] - 4s 2ms/step\n",
            "313/313 [==============================] - 1s 2ms/step\n"
          ]
        }
      ]
    },
    {
      "cell_type": "code",
      "source": [
        "yprob_train[0:5]"
      ],
      "metadata": {
        "colab": {
          "base_uri": "https://localhost:8080/"
        },
        "id": "-gpJ5tIYR3hf",
        "outputId": "fcbee8ad-f81a-4f8d-cb25-8ddb4caa74ee"
      },
      "execution_count": 137,
      "outputs": [
        {
          "output_type": "execute_result",
          "data": {
            "text/plain": [
              "array([[8.93816271e-12, 1.90235969e-11, 9.62924962e-10, 3.60751548e-03,\n",
              "        1.35245482e-12, 9.96391952e-01, 9.46593567e-11, 3.68754627e-09,\n",
              "        1.00979236e-07, 3.38998746e-07],\n",
              "       [9.99996901e-01, 6.79332197e-15, 2.11364920e-07, 8.27830929e-11,\n",
              "        3.51227068e-11, 6.96121633e-11, 1.02384854e-06, 1.90242648e-11,\n",
              "        1.01080303e-07, 1.74451418e-06],\n",
              "       [2.64631090e-13, 6.08562161e-08, 8.68206451e-10, 1.19839350e-09,\n",
              "        9.99982834e-01, 1.25035496e-10, 4.93405455e-11, 1.35120927e-05,\n",
              "        2.45754759e-08, 3.53010455e-06],\n",
              "       [1.02653672e-08, 9.99980211e-01, 6.00062663e-07, 1.38926154e-12,\n",
              "        1.24068720e-05, 6.69558714e-11, 2.77774088e-08, 4.03978174e-06,\n",
              "        2.67542168e-06, 2.69146234e-08],\n",
              "       [1.15949650e-09, 3.31941002e-10, 9.91622784e-09, 1.91896454e-08,\n",
              "        4.07431507e-05, 5.21032495e-10, 1.41858124e-13, 4.00546414e-05,\n",
              "        4.58378163e-05, 9.99873281e-01]], dtype=float32)"
            ]
          },
          "metadata": {},
          "execution_count": 137
        }
      ]
    },
    {
      "cell_type": "code",
      "source": [
        "import numpy as np\n",
        "ypred_train = np.argmax(yprob_train,axis=1)\n",
        "ypred_test = np.argmax(yprob_test,axis = 1)\n",
        ""
      ],
      "metadata": {
        "id": "hn12L7dFSCRy"
      },
      "execution_count": 138,
      "outputs": []
    },
    {
      "cell_type": "code",
      "source": [
        "yprob_train[0:5]"
      ],
      "metadata": {
        "colab": {
          "base_uri": "https://localhost:8080/"
        },
        "id": "JvA4DjJcSWBz",
        "outputId": "1ab4f129-feca-4263-fb6f-8495fd3d89a3"
      },
      "execution_count": 139,
      "outputs": [
        {
          "output_type": "execute_result",
          "data": {
            "text/plain": [
              "array([[8.93816271e-12, 1.90235969e-11, 9.62924962e-10, 3.60751548e-03,\n",
              "        1.35245482e-12, 9.96391952e-01, 9.46593567e-11, 3.68754627e-09,\n",
              "        1.00979236e-07, 3.38998746e-07],\n",
              "       [9.99996901e-01, 6.79332197e-15, 2.11364920e-07, 8.27830929e-11,\n",
              "        3.51227068e-11, 6.96121633e-11, 1.02384854e-06, 1.90242648e-11,\n",
              "        1.01080303e-07, 1.74451418e-06],\n",
              "       [2.64631090e-13, 6.08562161e-08, 8.68206451e-10, 1.19839350e-09,\n",
              "        9.99982834e-01, 1.25035496e-10, 4.93405455e-11, 1.35120927e-05,\n",
              "        2.45754759e-08, 3.53010455e-06],\n",
              "       [1.02653672e-08, 9.99980211e-01, 6.00062663e-07, 1.38926154e-12,\n",
              "        1.24068720e-05, 6.69558714e-11, 2.77774088e-08, 4.03978174e-06,\n",
              "        2.67542168e-06, 2.69146234e-08],\n",
              "       [1.15949650e-09, 3.31941002e-10, 9.91622784e-09, 1.91896454e-08,\n",
              "        4.07431507e-05, 5.21032495e-10, 1.41858124e-13, 4.00546414e-05,\n",
              "        4.58378163e-05, 9.99873281e-01]], dtype=float32)"
            ]
          },
          "metadata": {},
          "execution_count": 139
        }
      ]
    },
    {
      "cell_type": "code",
      "source": [
        "y_train[0:5]"
      ],
      "metadata": {
        "colab": {
          "base_uri": "https://localhost:8080/"
        },
        "id": "3fsgBqoxSiFU",
        "outputId": "c26bcce0-01df-4dbd-c2f8-bd4fd0d29487"
      },
      "execution_count": 140,
      "outputs": [
        {
          "output_type": "execute_result",
          "data": {
            "text/plain": [
              "array([5, 0, 4, 1, 9], dtype=uint8)"
            ]
          },
          "metadata": {},
          "execution_count": 140
        }
      ]
    },
    {
      "cell_type": "code",
      "source": [
        "y_test[0:5]"
      ],
      "metadata": {
        "colab": {
          "base_uri": "https://localhost:8080/"
        },
        "id": "XYQoE5XwUDTM",
        "outputId": "d1a3d1a7-0c40-4db0-f600-abc6924daf4f"
      },
      "execution_count": 141,
      "outputs": [
        {
          "output_type": "execute_result",
          "data": {
            "text/plain": [
              "array([7, 2, 1, 0, 4], dtype=uint8)"
            ]
          },
          "metadata": {},
          "execution_count": 141
        }
      ]
    },
    {
      "cell_type": "code",
      "source": [
        "yprob_test[0:5]"
      ],
      "metadata": {
        "colab": {
          "base_uri": "https://localhost:8080/"
        },
        "id": "VJRDt12IUOif",
        "outputId": "4f560e28-4a00-4217-ef7c-4ca91e833951"
      },
      "execution_count": 142,
      "outputs": [
        {
          "output_type": "execute_result",
          "data": {
            "text/plain": [
              "array([[3.12262521e-10, 1.17672170e-12, 2.26304721e-07, 3.55043497e-08,\n",
              "        3.86552938e-14, 1.04485084e-12, 9.11478175e-19, 9.99999642e-01,\n",
              "        4.05142697e-10, 1.23568441e-07],\n",
              "       [1.76487461e-07, 2.29946963e-07, 9.99997497e-01, 3.14805820e-10,\n",
              "        7.01171135e-11, 3.61605277e-14, 2.09435893e-06, 1.06253235e-11,\n",
              "        5.33951976e-08, 2.84778815e-11],\n",
              "       [5.47880408e-09, 9.99917865e-01, 4.60175364e-08, 1.42543077e-09,\n",
              "        5.35329200e-05, 7.93746437e-08, 1.43803490e-07, 2.54705483e-05,\n",
              "        2.84794351e-06, 7.09177925e-08],\n",
              "       [9.98822033e-01, 1.03912939e-12, 2.22316089e-06, 4.60608334e-08,\n",
              "        1.73968004e-08, 5.77483604e-07, 1.14012486e-03, 3.69883359e-08,\n",
              "        2.18077366e-05, 1.31151937e-05],\n",
              "       [2.97761105e-09, 2.00489070e-11, 3.44567125e-10, 1.69910266e-11,\n",
              "        9.99996543e-01, 2.27477863e-11, 4.47733006e-09, 9.05711686e-11,\n",
              "        7.97309525e-08, 3.38167001e-06]], dtype=float32)"
            ]
          },
          "metadata": {},
          "execution_count": 142
        }
      ]
    },
    {
      "cell_type": "code",
      "source": [],
      "metadata": {
        "id": "oRBqERntUfAz"
      },
      "execution_count": 142,
      "outputs": []
    },
    {
      "cell_type": "markdown",
      "source": [
        "### Plot the confusion matrix\n",
        "\n",
        "\n",
        "     "
      ],
      "metadata": {
        "id": "VGjD0S7TUmDA"
      }
    },
    {
      "cell_type": "code",
      "source": [
        "from sklearn.metrics import ConfusionMatrixDisplay\n",
        "ConfusionMatrixDisplay.from_predictions(y_test,ypred_test)\n",
        ""
      ],
      "metadata": {
        "colab": {
          "base_uri": "https://localhost:8080/",
          "height": 466
        },
        "id": "yInbMYAlUqZk",
        "outputId": "527459fe-099d-4a95-ab75-2ccf9631d61f"
      },
      "execution_count": 143,
      "outputs": [
        {
          "output_type": "execute_result",
          "data": {
            "text/plain": [
              "<sklearn.metrics._plot.confusion_matrix.ConfusionMatrixDisplay at 0x7f6cf3937220>"
            ]
          },
          "metadata": {},
          "execution_count": 143
        },
        {
          "output_type": "display_data",
          "data": {
            "text/plain": [
              "<Figure size 640x480 with 2 Axes>"
            ],
            "image/png": "[encoded data removed]"
          },
          "metadata": {}
        }
      ]
    },
    {
      "cell_type": "code",
      "source": [],
      "metadata": {
        "id": "u27I-xnxU5Ua"
      },
      "execution_count": 143,
      "outputs": []
    }
  ]
}