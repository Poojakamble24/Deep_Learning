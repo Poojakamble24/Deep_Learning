{
  "nbformat": 4,
  "nbformat_minor": 0,
  "metadata": {
    "colab": {
      "provenance": [],
      "gpuType": "T4",
      "authorship_tag": "ABX9TyMGtY1ThuXR0NeELTBPf7zr",
      "include_colab_link": true
    },
    "kernelspec": {
      "name": "python3",
      "display_name": "Python 3"
    },
    "language_info": {
      "name": "python"
    },
    "accelerator": "GPU"
  },
  "cells": [
    {
      "cell_type": "markdown",
      "metadata": {
        "id": "view-in-github",
        "colab_type": "text"
      },
      "source": [
        "<a href=\"https://colab.research.google.com/github/Poojakamble24/Deep_Learning/blob/main/Sentiment_Analysis_of_Restaurant_Review.ipynb\" target=\"_parent\"><img src=\"https://colab.research.google.com/assets/colab-badge.svg\" alt=\"Open In Colab\"/></a>"
      ]
    },
    {
      "cell_type": "code",
      "execution_count": null,
      "metadata": {
        "id": "8-nY3-TkLCVs"
      },
      "outputs": [],
      "source": []
    },
    {
      "cell_type": "markdown",
      "source": [
        "### Sentiment Analysis With Keras"
      ],
      "metadata": {
        "id": "oph5t2YYLD74"
      }
    },
    {
      "cell_type": "code",
      "source": [
        "from warnings import filterwarnings\n",
        "filterwarnings('ignore')"
      ],
      "metadata": {
        "id": "U_bU9j54LM0y"
      },
      "execution_count": 1,
      "outputs": []
    },
    {
      "cell_type": "code",
      "source": [],
      "metadata": {
        "id": "98BmuQtBLYA-"
      },
      "execution_count": null,
      "outputs": []
    },
    {
      "cell_type": "markdown",
      "source": [
        "### Step 1: Read the Dataset"
      ],
      "metadata": {
        "id": "9dFmsD2tLhy5"
      }
    },
    {
      "cell_type": "code",
      "source": [
        "import pandas as pd\n",
        "url = \"https://raw.githubusercontent.com/utkarshg1/Neural-Net-Datasets/main/Restaurant_Reviews.tsv\"\n",
        "df = pd.read_csv(url, sep='\\t')\n",
        "df.head()"
      ],
      "metadata": {
        "colab": {
          "base_uri": "https://localhost:8080/",
          "height": 206
        },
        "id": "WXfUot8mLmXO",
        "outputId": "cfef3729-d488-4063-d6e6-ebddc7ff8e36"
      },
      "execution_count": 1,
      "outputs": [
        {
          "output_type": "execute_result",
          "data": {
            "text/plain": [
              "                                              Review  Liked\n",
              "0                           Wow... Loved this place.      1\n",
              "1                                 Crust is not good.      0\n",
              "2          Not tasty and the texture was just nasty.      0\n",
              "3  Stopped by during the late May bank holiday of...      1\n",
              "4  The selection on the menu was great and so wer...      1"
            ],
            "text/html": [
              "\n",
              "  <div id=\"df-9be650d3-2c73-407c-a58b-3ec31e82aba3\" class=\"colab-df-container\">\n",
              "    <div>\n",
              "<style scoped>\n",
              "    .dataframe tbody tr th:only-of-type {\n",
              "        vertical-align: middle;\n",
              "    }\n",
              "\n",
              "    .dataframe tbody tr th {\n",
              "        vertical-align: top;\n",
              "    }\n",
              "\n",
              "    .dataframe thead th {\n",
              "        text-align: right;\n",
              "    }\n",
              "</style>\n",
              "<table border=\"1\" class=\"dataframe\">\n",
              "  <thead>\n",
              "    <tr style=\"text-align: right;\">\n",
              "      <th></th>\n",
              "      <th>Review</th>\n",
              "      <th>Liked</th>\n",
              "    </tr>\n",
              "  </thead>\n",
              "  <tbody>\n",
              "    <tr>\n",
              "      <th>0</th>\n",
              "      <td>Wow... Loved this place.</td>\n",
              "      <td>1</td>\n",
              "    </tr>\n",
              "    <tr>\n",
              "      <th>1</th>\n",
              "      <td>Crust is not good.</td>\n",
              "      <td>0</td>\n",
              "    </tr>\n",
              "    <tr>\n",
              "      <th>2</th>\n",
              "      <td>Not tasty and the texture was just nasty.</td>\n",
              "      <td>0</td>\n",
              "    </tr>\n",
              "    <tr>\n",
              "      <th>3</th>\n",
              "      <td>Stopped by during the late May bank holiday of...</td>\n",
              "      <td>1</td>\n",
              "    </tr>\n",
              "    <tr>\n",
              "      <th>4</th>\n",
              "      <td>The selection on the menu was great and so wer...</td>\n",
              "      <td>1</td>\n",
              "    </tr>\n",
              "  </tbody>\n",
              "</table>\n",
              "</div>\n",
              "    <div class=\"colab-df-buttons\">\n",
              "\n",
              "  <div class=\"colab-df-container\">\n",
              "    <button class=\"colab-df-convert\" onclick=\"convertToInteractive('df-9be650d3-2c73-407c-a58b-3ec31e82aba3')\"\n",
              "            title=\"Convert this dataframe to an interactive table.\"\n",
              "            style=\"display:none;\">\n",
              "\n",
              "  <svg xmlns=\"http://www.w3.org/2000/svg\" height=\"24px\" viewBox=\"0 -960 960 960\">\n",
              "    <path d=\"M120-120v-720h720v720H120Zm60-500h600v-160H180v160Zm220 220h160v-160H400v160Zm0 220h160v-160H400v160ZM180-400h160v-160H180v160Zm440 0h160v-160H620v160ZM180-180h160v-160H180v160Zm440 0h160v-160H620v160Z\"/>\n",
              "  </svg>\n",
              "    </button>\n",
              "\n",
              "  <style>\n",
              "    .colab-df-container {\n",
              "      display:flex;\n",
              "      gap: 12px;\n",
              "    }\n",
              "\n",
              "    .colab-df-convert {\n",
              "      background-color: #E8F0FE;\n",
              "      border: none;\n",
              "      border-radius: 50%;\n",
              "      cursor: pointer;\n",
              "      display: none;\n",
              "      fill: #1967D2;\n",
              "      height: 32px;\n",
              "      padding: 0 0 0 0;\n",
              "      width: 32px;\n",
              "    }\n",
              "\n",
              "    .colab-df-convert:hover {\n",
              "      background-color: #E2EBFA;\n",
              "      box-shadow: 0px 1px 2px rgba(60, 64, 67, 0.3), 0px 1px 3px 1px rgba(60, 64, 67, 0.15);\n",
              "      fill: #174EA6;\n",
              "    }\n",
              "\n",
              "    .colab-df-buttons div {\n",
              "      margin-bottom: 4px;\n",
              "    }\n",
              "\n",
              "    [theme=dark] .colab-df-convert {\n",
              "      background-color: #3B4455;\n",
              "      fill: #D2E3FC;\n",
              "    }\n",
              "\n",
              "    [theme=dark] .colab-df-convert:hover {\n",
              "      background-color: #434B5C;\n",
              "      box-shadow: 0px 1px 3px 1px rgba(0, 0, 0, 0.15);\n",
              "      filter: drop-shadow(0px 1px 2px rgba(0, 0, 0, 0.3));\n",
              "      fill: #FFFFFF;\n",
              "    }\n",
              "  </style>\n",
              "\n",
              "    <script>\n",
              "      const buttonEl =\n",
              "        document.querySelector('#df-9be650d3-2c73-407c-a58b-3ec31e82aba3 button.colab-df-convert');\n",
              "      buttonEl.style.display =\n",
              "        google.colab.kernel.accessAllowed ? 'block' : 'none';\n",
              "\n",
              "      async function convertToInteractive(key) {\n",
              "        const element = document.querySelector('#df-9be650d3-2c73-407c-a58b-3ec31e82aba3');\n",
              "        const dataTable =\n",
              "          await google.colab.kernel.invokeFunction('convertToInteractive',\n",
              "                                                    [key], {});\n",
              "        if (!dataTable) return;\n",
              "\n",
              "        const docLinkHtml = 'Like what you see? Visit the ' +\n",
              "          '<a target=\"_blank\" href=https://colab.research.google.com/notebooks/data_table.ipynb>data table notebook</a>'\n",
              "          + ' to learn more about interactive tables.';\n",
              "        element.innerHTML = '';\n",
              "        dataTable['output_type'] = 'display_data';\n",
              "        await google.colab.output.renderOutput(dataTable, element);\n",
              "        const docLink = document.createElement('div');\n",
              "        docLink.innerHTML = docLinkHtml;\n",
              "        element.appendChild(docLink);\n",
              "      }\n",
              "    </script>\n",
              "  </div>\n",
              "\n",
              "\n",
              "<div id=\"df-a159cdd1-b3ca-4b65-8db4-1953ad36668f\">\n",
              "  <button class=\"colab-df-quickchart\" onclick=\"quickchart('df-a159cdd1-b3ca-4b65-8db4-1953ad36668f')\"\n",
              "            title=\"Suggest charts\"\n",
              "            style=\"display:none;\">\n",
              "\n",
              "<svg xmlns=\"http://www.w3.org/2000/svg\" height=\"24px\"viewBox=\"0 0 24 24\"\n",
              "     width=\"24px\">\n",
              "    <g>\n",
              "        <path d=\"M19 3H5c-1.1 0-2 .9-2 2v14c0 1.1.9 2 2 2h14c1.1 0 2-.9 2-2V5c0-1.1-.9-2-2-2zM9 17H7v-7h2v7zm4 0h-2V7h2v10zm4 0h-2v-4h2v4z\"/>\n",
              "    </g>\n",
              "</svg>\n",
              "  </button>\n",
              "\n",
              "<style>\n",
              "  .colab-df-quickchart {\n",
              "      --bg-color: #E8F0FE;\n",
              "      --fill-color: #1967D2;\n",
              "      --hover-bg-color: #E2EBFA;\n",
              "      --hover-fill-color: #174EA6;\n",
              "      --disabled-fill-color: #AAA;\n",
              "      --disabled-bg-color: #DDD;\n",
              "  }\n",
              "\n",
              "  [theme=dark] .colab-df-quickchart {\n",
              "      --bg-color: #3B4455;\n",
              "      --fill-color: #D2E3FC;\n",
              "      --hover-bg-color: #434B5C;\n",
              "      --hover-fill-color: #FFFFFF;\n",
              "      --disabled-bg-color: #3B4455;\n",
              "      --disabled-fill-color: #666;\n",
              "  }\n",
              "\n",
              "  .colab-df-quickchart {\n",
              "    background-color: var(--bg-color);\n",
              "    border: none;\n",
              "    border-radius: 50%;\n",
              "    cursor: pointer;\n",
              "    display: none;\n",
              "    fill: var(--fill-color);\n",
              "    height: 32px;\n",
              "    padding: 0;\n",
              "    width: 32px;\n",
              "  }\n",
              "\n",
              "  .colab-df-quickchart:hover {\n",
              "    background-color: var(--hover-bg-color);\n",
              "    box-shadow: 0 1px 2px rgba(60, 64, 67, 0.3), 0 1px 3px 1px rgba(60, 64, 67, 0.15);\n",
              "    fill: var(--button-hover-fill-color);\n",
              "  }\n",
              "\n",
              "  .colab-df-quickchart-complete:disabled,\n",
              "  .colab-df-quickchart-complete:disabled:hover {\n",
              "    background-color: var(--disabled-bg-color);\n",
              "    fill: var(--disabled-fill-color);\n",
              "    box-shadow: none;\n",
              "  }\n",
              "\n",
              "  .colab-df-spinner {\n",
              "    border: 2px solid var(--fill-color);\n",
              "    border-color: transparent;\n",
              "    border-bottom-color: var(--fill-color);\n",
              "    animation:\n",
              "      spin 1s steps(1) infinite;\n",
              "  }\n",
              "\n",
              "  @keyframes spin {\n",
              "    0% {\n",
              "      border-color: transparent;\n",
              "      border-bottom-color: var(--fill-color);\n",
              "      border-left-color: var(--fill-color);\n",
              "    }\n",
              "    20% {\n",
              "      border-color: transparent;\n",
              "      border-left-color: var(--fill-color);\n",
              "      border-top-color: var(--fill-color);\n",
              "    }\n",
              "    30% {\n",
              "      border-color: transparent;\n",
              "      border-left-color: var(--fill-color);\n",
              "      border-top-color: var(--fill-color);\n",
              "      border-right-color: var(--fill-color);\n",
              "    }\n",
              "    40% {\n",
              "      border-color: transparent;\n",
              "      border-right-color: var(--fill-color);\n",
              "      border-top-color: var(--fill-color);\n",
              "    }\n",
              "    60% {\n",
              "      border-color: transparent;\n",
              "      border-right-color: var(--fill-color);\n",
              "    }\n",
              "    80% {\n",
              "      border-color: transparent;\n",
              "      border-right-color: var(--fill-color);\n",
              "      border-bottom-color: var(--fill-color);\n",
              "    }\n",
              "    90% {\n",
              "      border-color: transparent;\n",
              "      border-bottom-color: var(--fill-color);\n",
              "    }\n",
              "  }\n",
              "</style>\n",
              "\n",
              "  <script>\n",
              "    async function quickchart(key) {\n",
              "      const quickchartButtonEl =\n",
              "        document.querySelector('#' + key + ' button');\n",
              "      quickchartButtonEl.disabled = true;  // To prevent multiple clicks.\n",
              "      quickchartButtonEl.classList.add('colab-df-spinner');\n",
              "      try {\n",
              "        const charts = await google.colab.kernel.invokeFunction(\n",
              "            'suggestCharts', [key], {});\n",
              "      } catch (error) {\n",
              "        console.error('Error during call to suggestCharts:', error);\n",
              "      }\n",
              "      quickchartButtonEl.classList.remove('colab-df-spinner');\n",
              "      quickchartButtonEl.classList.add('colab-df-quickchart-complete');\n",
              "    }\n",
              "    (() => {\n",
              "      let quickchartButtonEl =\n",
              "        document.querySelector('#df-a159cdd1-b3ca-4b65-8db4-1953ad36668f button');\n",
              "      quickchartButtonEl.style.display =\n",
              "        google.colab.kernel.accessAllowed ? 'block' : 'none';\n",
              "    })();\n",
              "  </script>\n",
              "</div>\n",
              "\n",
              "    </div>\n",
              "  </div>\n"
            ],
            "application/vnd.google.colaboratory.intrinsic+json": {
              "type": "dataframe",
              "variable_name": "df",
              "summary": "{\n  \"name\": \"df\",\n  \"rows\": 1000,\n  \"fields\": [\n    {\n      \"column\": \"Review\",\n      \"properties\": {\n        \"dtype\": \"string\",\n        \"num_unique_values\": 996,\n        \"samples\": [\n          \"They were excellent.\",\n          \"Your servers suck, wait, correction, our server Heimer sucked.\",\n          \"Will be back again!\"\n        ],\n        \"semantic_type\": \"\",\n        \"description\": \"\"\n      }\n    },\n    {\n      \"column\": \"Liked\",\n      \"properties\": {\n        \"dtype\": \"number\",\n        \"std\": 0,\n        \"min\": 0,\n        \"max\": 1,\n        \"num_unique_values\": 2,\n        \"samples\": [\n          0,\n          1\n        ],\n        \"semantic_type\": \"\",\n        \"description\": \"\"\n      }\n    }\n  ]\n}"
            }
          },
          "metadata": {},
          "execution_count": 1
        }
      ]
    },
    {
      "cell_type": "code",
      "source": [
        "s = \"WELCOME, to Deep Learning class !!!\""
      ],
      "metadata": {
        "id": "YXF7h46pMXgP"
      },
      "execution_count": 2,
      "outputs": []
    },
    {
      "cell_type": "code",
      "source": [
        "s = s.lower()"
      ],
      "metadata": {
        "id": "1LRsdyXJM1EV"
      },
      "execution_count": 3,
      "outputs": []
    },
    {
      "cell_type": "code",
      "source": [
        "s"
      ],
      "metadata": {
        "colab": {
          "base_uri": "https://localhost:8080/",
          "height": 35
        },
        "id": "dQnmrazzM4xT",
        "outputId": "1f6425dc-6335-4ad4-862d-4600edfdc860"
      },
      "execution_count": 4,
      "outputs": [
        {
          "output_type": "execute_result",
          "data": {
            "text/plain": [
              "'welcome, to deep learning class !!!'"
            ],
            "application/vnd.google.colaboratory.intrinsic+json": {
              "type": "string"
            }
          },
          "metadata": {},
          "execution_count": 4
        }
      ]
    },
    {
      "cell_type": "code",
      "source": [
        "### provide proper pattern [^a-z]"
      ],
      "metadata": {
        "id": "whBfviVKM6-K"
      },
      "execution_count": 5,
      "outputs": []
    },
    {
      "cell_type": "code",
      "source": [
        "import re\n",
        "s1 = re.sub(\"[^a-z]\", \" \", s)\n",
        "s1"
      ],
      "metadata": {
        "colab": {
          "base_uri": "https://localhost:8080/",
          "height": 35
        },
        "id": "IhW-wW48NLXP",
        "outputId": "188ca588-614d-467b-bbec-6f6bd2329957"
      },
      "execution_count": 11,
      "outputs": [
        {
          "output_type": "execute_result",
          "data": {
            "text/plain": [
              "'welcome  to deep learning class    '"
            ],
            "application/vnd.google.colaboratory.intrinsic+json": {
              "type": "string"
            }
          },
          "metadata": {},
          "execution_count": 11
        }
      ]
    },
    {
      "cell_type": "code",
      "source": [],
      "metadata": {
        "id": "JszM8dz1Np8N"
      },
      "execution_count": null,
      "outputs": []
    },
    {
      "cell_type": "markdown",
      "source": [
        "### Create a function to preprocess text\n"
      ],
      "metadata": {
        "id": "wK8i2NfmOW4b"
      }
    },
    {
      "cell_type": "code",
      "source": [
        "def preprocess_text(s):\n",
        "    s = s.lower()\n",
        "    s = re.sub(\"[^a-z]\", \" \", s)\n",
        "    return s"
      ],
      "metadata": {
        "id": "i6SpmQMNOa_A"
      },
      "execution_count": 12,
      "outputs": []
    },
    {
      "cell_type": "code",
      "source": [
        "\n",
        "a = \"Wow...,the exprience is very good\"\n",
        "preprocess_text(a)"
      ],
      "metadata": {
        "colab": {
          "base_uri": "https://localhost:8080/",
          "height": 35
        },
        "id": "JVBj2Ki9OwmM",
        "outputId": "4e8c7459-ab89-4a5b-8fbc-fd335fcc5b4f"
      },
      "execution_count": 13,
      "outputs": [
        {
          "output_type": "execute_result",
          "data": {
            "text/plain": [
              "'wow    the exprience is very good'"
            ],
            "application/vnd.google.colaboratory.intrinsic+json": {
              "type": "string"
            }
          },
          "metadata": {},
          "execution_count": 13
        }
      ]
    },
    {
      "cell_type": "code",
      "source": [],
      "metadata": {
        "id": "61PjeZz0PUZb"
      },
      "execution_count": null,
      "outputs": []
    },
    {
      "cell_type": "markdown",
      "source": [
        "### Apply preprocessing on dataframe\n"
      ],
      "metadata": {
        "id": "iHkxRRuPPY92"
      }
    },
    {
      "cell_type": "code",
      "source": [
        "df['Review_pre'] =df['Review'].apply(preprocess_text)\n",
        "df"
      ],
      "metadata": {
        "colab": {
          "base_uri": "https://localhost:8080/",
          "height": 423
        },
        "id": "BhNTaCeAPbEX",
        "outputId": "37b1154b-7713-4cd0-92a8-d31fbac3bb7c"
      },
      "execution_count": 14,
      "outputs": [
        {
          "output_type": "execute_result",
          "data": {
            "text/plain": [
              "                                                Review  Liked  \\\n",
              "0                             Wow... Loved this place.      1   \n",
              "1                                   Crust is not good.      0   \n",
              "2            Not tasty and the texture was just nasty.      0   \n",
              "3    Stopped by during the late May bank holiday of...      1   \n",
              "4    The selection on the menu was great and so wer...      1   \n",
              "..                                                 ...    ...   \n",
              "995  I think food should have flavor and texture an...      0   \n",
              "996                           Appetite instantly gone.      0   \n",
              "997  Overall I was not impressed and would not go b...      0   \n",
              "998  The whole experience was underwhelming, and I ...      0   \n",
              "999  Then, as if I hadn't wasted enough of my life ...      0   \n",
              "\n",
              "                                            Review_pre  \n",
              "0                             wow    loved this place   \n",
              "1                                   crust is not good   \n",
              "2            not tasty and the texture was just nasty   \n",
              "3    stopped by during the late may bank holiday of...  \n",
              "4    the selection on the menu was great and so wer...  \n",
              "..                                                 ...  \n",
              "995  i think food should have flavor and texture an...  \n",
              "996                           appetite instantly gone   \n",
              "997  overall i was not impressed and would not go b...  \n",
              "998  the whole experience was underwhelming  and i ...  \n",
              "999  then  as if i hadn t wasted enough of my life ...  \n",
              "\n",
              "[1000 rows x 3 columns]"
            ],
            "text/html": [
              "\n",
              "  <div id=\"df-3e95fe9c-2ae5-4167-9f67-641b0f2de00e\" class=\"colab-df-container\">\n",
              "    <div>\n",
              "<style scoped>\n",
              "    .dataframe tbody tr th:only-of-type {\n",
              "        vertical-align: middle;\n",
              "    }\n",
              "\n",
              "    .dataframe tbody tr th {\n",
              "        vertical-align: top;\n",
              "    }\n",
              "\n",
              "    .dataframe thead th {\n",
              "        text-align: right;\n",
              "    }\n",
              "</style>\n",
              "<table border=\"1\" class=\"dataframe\">\n",
              "  <thead>\n",
              "    <tr style=\"text-align: right;\">\n",
              "      <th></th>\n",
              "      <th>Review</th>\n",
              "      <th>Liked</th>\n",
              "      <th>Review_pre</th>\n",
              "    </tr>\n",
              "  </thead>\n",
              "  <tbody>\n",
              "    <tr>\n",
              "      <th>0</th>\n",
              "      <td>Wow... Loved this place.</td>\n",
              "      <td>1</td>\n",
              "      <td>wow    loved this place</td>\n",
              "    </tr>\n",
              "    <tr>\n",
              "      <th>1</th>\n",
              "      <td>Crust is not good.</td>\n",
              "      <td>0</td>\n",
              "      <td>crust is not good</td>\n",
              "    </tr>\n",
              "    <tr>\n",
              "      <th>2</th>\n",
              "      <td>Not tasty and the texture was just nasty.</td>\n",
              "      <td>0</td>\n",
              "      <td>not tasty and the texture was just nasty</td>\n",
              "    </tr>\n",
              "    <tr>\n",
              "      <th>3</th>\n",
              "      <td>Stopped by during the late May bank holiday of...</td>\n",
              "      <td>1</td>\n",
              "      <td>stopped by during the late may bank holiday of...</td>\n",
              "    </tr>\n",
              "    <tr>\n",
              "      <th>4</th>\n",
              "      <td>The selection on the menu was great and so wer...</td>\n",
              "      <td>1</td>\n",
              "      <td>the selection on the menu was great and so wer...</td>\n",
              "    </tr>\n",
              "    <tr>\n",
              "      <th>...</th>\n",
              "      <td>...</td>\n",
              "      <td>...</td>\n",
              "      <td>...</td>\n",
              "    </tr>\n",
              "    <tr>\n",
              "      <th>995</th>\n",
              "      <td>I think food should have flavor and texture an...</td>\n",
              "      <td>0</td>\n",
              "      <td>i think food should have flavor and texture an...</td>\n",
              "    </tr>\n",
              "    <tr>\n",
              "      <th>996</th>\n",
              "      <td>Appetite instantly gone.</td>\n",
              "      <td>0</td>\n",
              "      <td>appetite instantly gone</td>\n",
              "    </tr>\n",
              "    <tr>\n",
              "      <th>997</th>\n",
              "      <td>Overall I was not impressed and would not go b...</td>\n",
              "      <td>0</td>\n",
              "      <td>overall i was not impressed and would not go b...</td>\n",
              "    </tr>\n",
              "    <tr>\n",
              "      <th>998</th>\n",
              "      <td>The whole experience was underwhelming, and I ...</td>\n",
              "      <td>0</td>\n",
              "      <td>the whole experience was underwhelming  and i ...</td>\n",
              "    </tr>\n",
              "    <tr>\n",
              "      <th>999</th>\n",
              "      <td>Then, as if I hadn't wasted enough of my life ...</td>\n",
              "      <td>0</td>\n",
              "      <td>then  as if i hadn t wasted enough of my life ...</td>\n",
              "    </tr>\n",
              "  </tbody>\n",
              "</table>\n",
              "<p>1000 rows × 3 columns</p>\n",
              "</div>\n",
              "    <div class=\"colab-df-buttons\">\n",
              "\n",
              "  <div class=\"colab-df-container\">\n",
              "    <button class=\"colab-df-convert\" onclick=\"convertToInteractive('df-3e95fe9c-2ae5-4167-9f67-641b0f2de00e')\"\n",
              "            title=\"Convert this dataframe to an interactive table.\"\n",
              "            style=\"display:none;\">\n",
              "\n",
              "  <svg xmlns=\"http://www.w3.org/2000/svg\" height=\"24px\" viewBox=\"0 -960 960 960\">\n",
              "    <path d=\"M120-120v-720h720v720H120Zm60-500h600v-160H180v160Zm220 220h160v-160H400v160Zm0 220h160v-160H400v160ZM180-400h160v-160H180v160Zm440 0h160v-160H620v160ZM180-180h160v-160H180v160Zm440 0h160v-160H620v160Z\"/>\n",
              "  </svg>\n",
              "    </button>\n",
              "\n",
              "  <style>\n",
              "    .colab-df-container {\n",
              "      display:flex;\n",
              "      gap: 12px;\n",
              "    }\n",
              "\n",
              "    .colab-df-convert {\n",
              "      background-color: #E8F0FE;\n",
              "      border: none;\n",
              "      border-radius: 50%;\n",
              "      cursor: pointer;\n",
              "      display: none;\n",
              "      fill: #1967D2;\n",
              "      height: 32px;\n",
              "      padding: 0 0 0 0;\n",
              "      width: 32px;\n",
              "    }\n",
              "\n",
              "    .colab-df-convert:hover {\n",
              "      background-color: #E2EBFA;\n",
              "      box-shadow: 0px 1px 2px rgba(60, 64, 67, 0.3), 0px 1px 3px 1px rgba(60, 64, 67, 0.15);\n",
              "      fill: #174EA6;\n",
              "    }\n",
              "\n",
              "    .colab-df-buttons div {\n",
              "      margin-bottom: 4px;\n",
              "    }\n",
              "\n",
              "    [theme=dark] .colab-df-convert {\n",
              "      background-color: #3B4455;\n",
              "      fill: #D2E3FC;\n",
              "    }\n",
              "\n",
              "    [theme=dark] .colab-df-convert:hover {\n",
              "      background-color: #434B5C;\n",
              "      box-shadow: 0px 1px 3px 1px rgba(0, 0, 0, 0.15);\n",
              "      filter: drop-shadow(0px 1px 2px rgba(0, 0, 0, 0.3));\n",
              "      fill: #FFFFFF;\n",
              "    }\n",
              "  </style>\n",
              "\n",
              "    <script>\n",
              "      const buttonEl =\n",
              "        document.querySelector('#df-3e95fe9c-2ae5-4167-9f67-641b0f2de00e button.colab-df-convert');\n",
              "      buttonEl.style.display =\n",
              "        google.colab.kernel.accessAllowed ? 'block' : 'none';\n",
              "\n",
              "      async function convertToInteractive(key) {\n",
              "        const element = document.querySelector('#df-3e95fe9c-2ae5-4167-9f67-641b0f2de00e');\n",
              "        const dataTable =\n",
              "          await google.colab.kernel.invokeFunction('convertToInteractive',\n",
              "                                                    [key], {});\n",
              "        if (!dataTable) return;\n",
              "\n",
              "        const docLinkHtml = 'Like what you see? Visit the ' +\n",
              "          '<a target=\"_blank\" href=https://colab.research.google.com/notebooks/data_table.ipynb>data table notebook</a>'\n",
              "          + ' to learn more about interactive tables.';\n",
              "        element.innerHTML = '';\n",
              "        dataTable['output_type'] = 'display_data';\n",
              "        await google.colab.output.renderOutput(dataTable, element);\n",
              "        const docLink = document.createElement('div');\n",
              "        docLink.innerHTML = docLinkHtml;\n",
              "        element.appendChild(docLink);\n",
              "      }\n",
              "    </script>\n",
              "  </div>\n",
              "\n",
              "\n",
              "<div id=\"df-277d0946-345e-488f-96ee-61e8dcc14f0d\">\n",
              "  <button class=\"colab-df-quickchart\" onclick=\"quickchart('df-277d0946-345e-488f-96ee-61e8dcc14f0d')\"\n",
              "            title=\"Suggest charts\"\n",
              "            style=\"display:none;\">\n",
              "\n",
              "<svg xmlns=\"http://www.w3.org/2000/svg\" height=\"24px\"viewBox=\"0 0 24 24\"\n",
              "     width=\"24px\">\n",
              "    <g>\n",
              "        <path d=\"M19 3H5c-1.1 0-2 .9-2 2v14c0 1.1.9 2 2 2h14c1.1 0 2-.9 2-2V5c0-1.1-.9-2-2-2zM9 17H7v-7h2v7zm4 0h-2V7h2v10zm4 0h-2v-4h2v4z\"/>\n",
              "    </g>\n",
              "</svg>\n",
              "  </button>\n",
              "\n",
              "<style>\n",
              "  .colab-df-quickchart {\n",
              "      --bg-color: #E8F0FE;\n",
              "      --fill-color: #1967D2;\n",
              "      --hover-bg-color: #E2EBFA;\n",
              "      --hover-fill-color: #174EA6;\n",
              "      --disabled-fill-color: #AAA;\n",
              "      --disabled-bg-color: #DDD;\n",
              "  }\n",
              "\n",
              "  [theme=dark] .colab-df-quickchart {\n",
              "      --bg-color: #3B4455;\n",
              "      --fill-color: #D2E3FC;\n",
              "      --hover-bg-color: #434B5C;\n",
              "      --hover-fill-color: #FFFFFF;\n",
              "      --disabled-bg-color: #3B4455;\n",
              "      --disabled-fill-color: #666;\n",
              "  }\n",
              "\n",
              "  .colab-df-quickchart {\n",
              "    background-color: var(--bg-color);\n",
              "    border: none;\n",
              "    border-radius: 50%;\n",
              "    cursor: pointer;\n",
              "    display: none;\n",
              "    fill: var(--fill-color);\n",
              "    height: 32px;\n",
              "    padding: 0;\n",
              "    width: 32px;\n",
              "  }\n",
              "\n",
              "  .colab-df-quickchart:hover {\n",
              "    background-color: var(--hover-bg-color);\n",
              "    box-shadow: 0 1px 2px rgba(60, 64, 67, 0.3), 0 1px 3px 1px rgba(60, 64, 67, 0.15);\n",
              "    fill: var(--button-hover-fill-color);\n",
              "  }\n",
              "\n",
              "  .colab-df-quickchart-complete:disabled,\n",
              "  .colab-df-quickchart-complete:disabled:hover {\n",
              "    background-color: var(--disabled-bg-color);\n",
              "    fill: var(--disabled-fill-color);\n",
              "    box-shadow: none;\n",
              "  }\n",
              "\n",
              "  .colab-df-spinner {\n",
              "    border: 2px solid var(--fill-color);\n",
              "    border-color: transparent;\n",
              "    border-bottom-color: var(--fill-color);\n",
              "    animation:\n",
              "      spin 1s steps(1) infinite;\n",
              "  }\n",
              "\n",
              "  @keyframes spin {\n",
              "    0% {\n",
              "      border-color: transparent;\n",
              "      border-bottom-color: var(--fill-color);\n",
              "      border-left-color: var(--fill-color);\n",
              "    }\n",
              "    20% {\n",
              "      border-color: transparent;\n",
              "      border-left-color: var(--fill-color);\n",
              "      border-top-color: var(--fill-color);\n",
              "    }\n",
              "    30% {\n",
              "      border-color: transparent;\n",
              "      border-left-color: var(--fill-color);\n",
              "      border-top-color: var(--fill-color);\n",
              "      border-right-color: var(--fill-color);\n",
              "    }\n",
              "    40% {\n",
              "      border-color: transparent;\n",
              "      border-right-color: var(--fill-color);\n",
              "      border-top-color: var(--fill-color);\n",
              "    }\n",
              "    60% {\n",
              "      border-color: transparent;\n",
              "      border-right-color: var(--fill-color);\n",
              "    }\n",
              "    80% {\n",
              "      border-color: transparent;\n",
              "      border-right-color: var(--fill-color);\n",
              "      border-bottom-color: var(--fill-color);\n",
              "    }\n",
              "    90% {\n",
              "      border-color: transparent;\n",
              "      border-bottom-color: var(--fill-color);\n",
              "    }\n",
              "  }\n",
              "</style>\n",
              "\n",
              "  <script>\n",
              "    async function quickchart(key) {\n",
              "      const quickchartButtonEl =\n",
              "        document.querySelector('#' + key + ' button');\n",
              "      quickchartButtonEl.disabled = true;  // To prevent multiple clicks.\n",
              "      quickchartButtonEl.classList.add('colab-df-spinner');\n",
              "      try {\n",
              "        const charts = await google.colab.kernel.invokeFunction(\n",
              "            'suggestCharts', [key], {});\n",
              "      } catch (error) {\n",
              "        console.error('Error during call to suggestCharts:', error);\n",
              "      }\n",
              "      quickchartButtonEl.classList.remove('colab-df-spinner');\n",
              "      quickchartButtonEl.classList.add('colab-df-quickchart-complete');\n",
              "    }\n",
              "    (() => {\n",
              "      let quickchartButtonEl =\n",
              "        document.querySelector('#df-277d0946-345e-488f-96ee-61e8dcc14f0d button');\n",
              "      quickchartButtonEl.style.display =\n",
              "        google.colab.kernel.accessAllowed ? 'block' : 'none';\n",
              "    })();\n",
              "  </script>\n",
              "</div>\n",
              "\n",
              "  <div id=\"id_1e6c35fc-456d-4409-bcc9-72d25e0d3188\">\n",
              "    <style>\n",
              "      .colab-df-generate {\n",
              "        background-color: #E8F0FE;\n",
              "        border: none;\n",
              "        border-radius: 50%;\n",
              "        cursor: pointer;\n",
              "        display: none;\n",
              "        fill: #1967D2;\n",
              "        height: 32px;\n",
              "        padding: 0 0 0 0;\n",
              "        width: 32px;\n",
              "      }\n",
              "\n",
              "      .colab-df-generate:hover {\n",
              "        background-color: #E2EBFA;\n",
              "        box-shadow: 0px 1px 2px rgba(60, 64, 67, 0.3), 0px 1px 3px 1px rgba(60, 64, 67, 0.15);\n",
              "        fill: #174EA6;\n",
              "      }\n",
              "\n",
              "      [theme=dark] .colab-df-generate {\n",
              "        background-color: #3B4455;\n",
              "        fill: #D2E3FC;\n",
              "      }\n",
              "\n",
              "      [theme=dark] .colab-df-generate:hover {\n",
              "        background-color: #434B5C;\n",
              "        box-shadow: 0px 1px 3px 1px rgba(0, 0, 0, 0.15);\n",
              "        filter: drop-shadow(0px 1px 2px rgba(0, 0, 0, 0.3));\n",
              "        fill: #FFFFFF;\n",
              "      }\n",
              "    </style>\n",
              "    <button class=\"colab-df-generate\" onclick=\"generateWithVariable('df')\"\n",
              "            title=\"Generate code using this dataframe.\"\n",
              "            style=\"display:none;\">\n",
              "\n",
              "  <svg xmlns=\"http://www.w3.org/2000/svg\" height=\"24px\"viewBox=\"0 0 24 24\"\n",
              "       width=\"24px\">\n",
              "    <path d=\"M7,19H8.4L18.45,9,17,7.55,7,17.6ZM5,21V16.75L18.45,3.32a2,2,0,0,1,2.83,0l1.4,1.43a1.91,1.91,0,0,1,.58,1.4,1.91,1.91,0,0,1-.58,1.4L9.25,21ZM18.45,9,17,7.55Zm-12,3A5.31,5.31,0,0,0,4.9,8.1,5.31,5.31,0,0,0,1,6.5,5.31,5.31,0,0,0,4.9,4.9,5.31,5.31,0,0,0,6.5,1,5.31,5.31,0,0,0,8.1,4.9,5.31,5.31,0,0,0,12,6.5,5.46,5.46,0,0,0,6.5,12Z\"/>\n",
              "  </svg>\n",
              "    </button>\n",
              "    <script>\n",
              "      (() => {\n",
              "      const buttonEl =\n",
              "        document.querySelector('#id_1e6c35fc-456d-4409-bcc9-72d25e0d3188 button.colab-df-generate');\n",
              "      buttonEl.style.display =\n",
              "        google.colab.kernel.accessAllowed ? 'block' : 'none';\n",
              "\n",
              "      buttonEl.onclick = () => {\n",
              "        google.colab.notebook.generateWithVariable('df');\n",
              "      }\n",
              "      })();\n",
              "    </script>\n",
              "  </div>\n",
              "\n",
              "    </div>\n",
              "  </div>\n"
            ],
            "application/vnd.google.colaboratory.intrinsic+json": {
              "type": "dataframe",
              "variable_name": "df",
              "summary": "{\n  \"name\": \"df\",\n  \"rows\": 1000,\n  \"fields\": [\n    {\n      \"column\": \"Review\",\n      \"properties\": {\n        \"dtype\": \"string\",\n        \"num_unique_values\": 996,\n        \"samples\": [\n          \"They were excellent.\",\n          \"Your servers suck, wait, correction, our server Heimer sucked.\",\n          \"Will be back again!\"\n        ],\n        \"semantic_type\": \"\",\n        \"description\": \"\"\n      }\n    },\n    {\n      \"column\": \"Liked\",\n      \"properties\": {\n        \"dtype\": \"number\",\n        \"std\": 0,\n        \"min\": 0,\n        \"max\": 1,\n        \"num_unique_values\": 2,\n        \"samples\": [\n          0,\n          1\n        ],\n        \"semantic_type\": \"\",\n        \"description\": \"\"\n      }\n    },\n    {\n      \"column\": \"Review_pre\",\n      \"properties\": {\n        \"dtype\": \"string\",\n        \"num_unique_values\": 995,\n        \"samples\": [\n          \"i could barely stomach the meal  but didn t complain because it was a business lunch \",\n          \"similarly  the delivery man did not say a word of apology when our food was    minutes late \"\n        ],\n        \"semantic_type\": \"\",\n        \"description\": \"\"\n      }\n    }\n  ]\n}"
            }
          },
          "metadata": {},
          "execution_count": 14
        }
      ]
    },
    {
      "cell_type": "code",
      "source": [],
      "metadata": {
        "id": "RJ6uVMAyPnKO"
      },
      "execution_count": null,
      "outputs": []
    },
    {
      "cell_type": "markdown",
      "source": [
        "### Apply TFIDF Vectorizer\n"
      ],
      "metadata": {
        "id": "2nv_9P8wPs_W"
      }
    },
    {
      "cell_type": "code",
      "source": [
        "from sklearn.feature_extraction.text import TfidfVectorizer\n",
        "tfidf = TfidfVectorizer()\n",
        "x_pre = tfidf.fit_transform(df['Review_pre']).toarray()\n",
        "x_pre"
      ],
      "metadata": {
        "colab": {
          "base_uri": "https://localhost:8080/"
        },
        "id": "l_i6mtggPu_n",
        "outputId": "75ea2968-e6fe-4120-a432-126a1a68b5e4"
      },
      "execution_count": 19,
      "outputs": [
        {
          "output_type": "execute_result",
          "data": {
            "text/plain": [
              "array([[0., 0., 0., ..., 0., 0., 0.],\n",
              "       [0., 0., 0., ..., 0., 0., 0.],\n",
              "       [0., 0., 0., ..., 0., 0., 0.],\n",
              "       ...,\n",
              "       [0., 0., 0., ..., 0., 0., 0.],\n",
              "       [0., 0., 0., ..., 0., 0., 0.],\n",
              "       [0., 0., 0., ..., 0., 0., 0.]])"
            ]
          },
          "metadata": {},
          "execution_count": 19
        }
      ]
    },
    {
      "cell_type": "code",
      "source": [
        "x_pre.shape"
      ],
      "metadata": {
        "colab": {
          "base_uri": "https://localhost:8080/"
        },
        "id": "l0f5MWBaQcEl",
        "outputId": "710bdd59-86cb-4433-d152-637ac8c71025"
      },
      "execution_count": 20,
      "outputs": [
        {
          "output_type": "execute_result",
          "data": {
            "text/plain": [
              "(1000, 2016)"
            ]
          },
          "metadata": {},
          "execution_count": 20
        }
      ]
    },
    {
      "cell_type": "code",
      "source": [
        "y = df['Liked']"
      ],
      "metadata": {
        "id": "ry0r5l2DQ952"
      },
      "execution_count": 21,
      "outputs": []
    },
    {
      "cell_type": "code",
      "source": [
        "y.head()"
      ],
      "metadata": {
        "colab": {
          "base_uri": "https://localhost:8080/"
        },
        "id": "6ZJlJGmCRKB0",
        "outputId": "b48471db-5d4f-49d6-eb3d-cfa75613871c"
      },
      "execution_count": 22,
      "outputs": [
        {
          "output_type": "execute_result",
          "data": {
            "text/plain": [
              "0    1\n",
              "1    0\n",
              "2    0\n",
              "3    1\n",
              "4    1\n",
              "Name: Liked, dtype: int64"
            ]
          },
          "metadata": {},
          "execution_count": 22
        }
      ]
    },
    {
      "cell_type": "code",
      "source": [],
      "metadata": {
        "id": "SihqnI0eRMxE"
      },
      "execution_count": null,
      "outputs": []
    },
    {
      "cell_type": "markdown",
      "source": [
        "### Apply Train test split\n"
      ],
      "metadata": {
        "id": "_RJ8S2NMRQdt"
      }
    },
    {
      "cell_type": "code",
      "source": [
        "from sklearn.model_selection import train_test_split\n",
        "x_train, x_test, y_train, y_test = train_test_split(x_pre, y, test_size=0.2, random_state=1)"
      ],
      "metadata": {
        "id": "7E4a_xBSRUrY"
      },
      "execution_count": 23,
      "outputs": []
    },
    {
      "cell_type": "code",
      "source": [
        "x_train"
      ],
      "metadata": {
        "colab": {
          "base_uri": "https://localhost:8080/"
        },
        "id": "XctXauocRiJJ",
        "outputId": "ccf948a1-9a87-4dfa-9a01-6ed184ac82ee"
      },
      "execution_count": 24,
      "outputs": [
        {
          "output_type": "execute_result",
          "data": {
            "text/plain": [
              "array([[0.        , 0.        , 0.        , ..., 0.        , 0.        ,\n",
              "        0.        ],\n",
              "       [0.        , 0.        , 0.        , ..., 0.        , 0.        ,\n",
              "        0.        ],\n",
              "       [0.        , 0.        , 0.        , ..., 0.        , 0.        ,\n",
              "        0.        ],\n",
              "       ...,\n",
              "       [0.        , 0.        , 0.        , ..., 0.        , 0.        ,\n",
              "        0.        ],\n",
              "       [0.        , 0.        , 0.        , ..., 0.        , 0.        ,\n",
              "        0.38133044],\n",
              "       [0.        , 0.        , 0.        , ..., 0.        , 0.        ,\n",
              "        0.        ]])"
            ]
          },
          "metadata": {},
          "execution_count": 24
        }
      ]
    },
    {
      "cell_type": "code",
      "source": [
        "y_train"
      ],
      "metadata": {
        "colab": {
          "base_uri": "https://localhost:8080/"
        },
        "id": "pUbGCLuURoKd",
        "outputId": "5a50cf44-e5b5-439a-e242-5b0e5db85b7a"
      },
      "execution_count": 25,
      "outputs": [
        {
          "output_type": "execute_result",
          "data": {
            "text/plain": [
              "382    1\n",
              "994    0\n",
              "982    0\n",
              "47     1\n",
              "521    1\n",
              "      ..\n",
              "767    1\n",
              "72     0\n",
              "908    0\n",
              "235    0\n",
              "37     0\n",
              "Name: Liked, Length: 800, dtype: int64"
            ]
          },
          "metadata": {},
          "execution_count": 25
        }
      ]
    },
    {
      "cell_type": "code",
      "source": [
        "x_test"
      ],
      "metadata": {
        "colab": {
          "base_uri": "https://localhost:8080/"
        },
        "id": "9OorqkgZRqP3",
        "outputId": "45819d19-38fb-4f9f-f78f-b8a40b6c5ffb"
      },
      "execution_count": 26,
      "outputs": [
        {
          "output_type": "execute_result",
          "data": {
            "text/plain": [
              "array([[0., 0., 0., ..., 0., 0., 0.],\n",
              "       [0., 0., 0., ..., 0., 0., 0.],\n",
              "       [0., 0., 0., ..., 0., 0., 0.],\n",
              "       ...,\n",
              "       [0., 0., 0., ..., 0., 0., 0.],\n",
              "       [0., 0., 0., ..., 0., 0., 0.],\n",
              "       [0., 0., 0., ..., 0., 0., 0.]])"
            ]
          },
          "metadata": {},
          "execution_count": 26
        }
      ]
    },
    {
      "cell_type": "code",
      "source": [
        "y_test"
      ],
      "metadata": {
        "colab": {
          "base_uri": "https://localhost:8080/"
        },
        "id": "8fEPxyhuRsOr",
        "outputId": "815b617e-b27f-4bf3-cf97-fa33963bcbb2"
      },
      "execution_count": 27,
      "outputs": [
        {
          "output_type": "execute_result",
          "data": {
            "text/plain": [
              "507    0\n",
              "818    0\n",
              "452    0\n",
              "368    1\n",
              "242    0\n",
              "      ..\n",
              "430    0\n",
              "874    0\n",
              "550    1\n",
              "608    1\n",
              "207    0\n",
              "Name: Liked, Length: 200, dtype: int64"
            ]
          },
          "metadata": {},
          "execution_count": 27
        }
      ]
    },
    {
      "cell_type": "code",
      "source": [
        "x_train.shape"
      ],
      "metadata": {
        "colab": {
          "base_uri": "https://localhost:8080/"
        },
        "id": "xi_RzACRRuEs",
        "outputId": "80217368-398c-4bc2-80af-04dc4ba42f6c"
      },
      "execution_count": 28,
      "outputs": [
        {
          "output_type": "execute_result",
          "data": {
            "text/plain": [
              "(800, 2016)"
            ]
          },
          "metadata": {},
          "execution_count": 28
        }
      ]
    },
    {
      "cell_type": "code",
      "source": [
        "x_test.shape"
      ],
      "metadata": {
        "colab": {
          "base_uri": "https://localhost:8080/"
        },
        "id": "cXptQbF-R3bV",
        "outputId": "fd7d2111-c275-4bc1-8646-6c6c9e22b68b"
      },
      "execution_count": 29,
      "outputs": [
        {
          "output_type": "execute_result",
          "data": {
            "text/plain": [
              "(200, 2016)"
            ]
          },
          "metadata": {},
          "execution_count": 29
        }
      ]
    },
    {
      "cell_type": "code",
      "source": [],
      "metadata": {
        "id": "QZEX4pe8R7SM"
      },
      "execution_count": null,
      "outputs": []
    },
    {
      "cell_type": "markdown",
      "source": [
        "### Build The Neural Net\n"
      ],
      "metadata": {
        "id": "rWYgA0e1SABi"
      }
    },
    {
      "cell_type": "code",
      "source": [
        "from keras.models import Sequential\n",
        "from keras.layers import Dense, Dropout, Input\n",
        "from keras.callbacks import EarlyStopping"
      ],
      "metadata": {
        "id": "6FB7tKL8SCL-"
      },
      "execution_count": 33,
      "outputs": []
    },
    {
      "cell_type": "code",
      "source": [
        "model = Sequential()\n",
        "\n",
        "# Input Layer\n",
        "model.add(Input(shape=(x_train.shape[1],)))\n",
        "\n",
        "# Hidden Layer 1\n",
        "model.add(Dense(256, activation='relu'))\n",
        "# Dropout Layer 1\n",
        "model.add(Dropout(0.6))\n",
        "\n",
        "# Hidden Layer 2\n",
        "model.add(Dense(128, activation='relu'))\n",
        "# Dropout layer 2\n",
        "model.add(Dropout(0.6))\n",
        "\n",
        "# Output Layer\n",
        "model.add(Dense(1, activation='sigmoid'))"
      ],
      "metadata": {
        "id": "835pGYnPSnQd"
      },
      "execution_count": 35,
      "outputs": []
    },
    {
      "cell_type": "code",
      "source": [
        "model: \"Sequential\""
      ],
      "metadata": {
        "id": "-SxE0DVMTU9E"
      },
      "execution_count": 36,
      "outputs": []
    },
    {
      "cell_type": "code",
      "source": [
        "model.compile (optimizer = 'adam', loss = 'binary_crossentropy', metrics = ['accuracy'])"
      ],
      "metadata": {
        "id": "V5LaMpbDThEg"
      },
      "execution_count": 37,
      "outputs": []
    },
    {
      "cell_type": "code",
      "source": [
        "es = EarlyStopping(patience=100)"
      ],
      "metadata": {
        "id": "7W4Gm197T6Ib"
      },
      "execution_count": 41,
      "outputs": []
    },
    {
      "cell_type": "code",
      "source": [
        "hist = model.fit(x_train, y_train,\n",
        "                 validation_split=0.2,\n",
        "                 batch_size=16,\n",
        "                 epochs=100,\n",
        "                 callbacks=[es])"
      ],
      "metadata": {
        "colab": {
          "base_uri": "https://localhost:8080/"
        },
        "id": "9eRACCDcUMhC",
        "outputId": "7ee597c1-f96a-42b2-b1ef-9c8172f6d6df"
      },
      "execution_count": 42,
      "outputs": [
        {
          "output_type": "stream",
          "name": "stdout",
          "text": [
            "Epoch 1/100\n",
            "40/40 [==============================] - 0s 9ms/step - loss: 1.9068e-05 - accuracy: 1.0000 - val_loss: 0.7199 - val_accuracy: 0.8375\n",
            "Epoch 2/100\n",
            "40/40 [==============================] - 0s 7ms/step - loss: 4.1552e-05 - accuracy: 1.0000 - val_loss: 0.7285 - val_accuracy: 0.8313\n",
            "Epoch 3/100\n",
            "40/40 [==============================] - 0s 8ms/step - loss: 2.4045e-05 - accuracy: 1.0000 - val_loss: 0.7327 - val_accuracy: 0.8313\n",
            "Epoch 4/100\n",
            "40/40 [==============================] - 0s 8ms/step - loss: 4.8776e-05 - accuracy: 1.0000 - val_loss: 0.7451 - val_accuracy: 0.8250\n",
            "Epoch 5/100\n",
            "40/40 [==============================] - 0s 7ms/step - loss: 1.5661e-05 - accuracy: 1.0000 - val_loss: 0.7484 - val_accuracy: 0.8250\n",
            "Epoch 6/100\n",
            "40/40 [==============================] - 0s 7ms/step - loss: 1.2282e-05 - accuracy: 1.0000 - val_loss: 0.7495 - val_accuracy: 0.8250\n",
            "Epoch 7/100\n",
            "40/40 [==============================] - 0s 8ms/step - loss: 1.8412e-05 - accuracy: 1.0000 - val_loss: 0.7483 - val_accuracy: 0.8250\n",
            "Epoch 8/100\n",
            "40/40 [==============================] - 0s 7ms/step - loss: 3.6049e-05 - accuracy: 1.0000 - val_loss: 0.7455 - val_accuracy: 0.8250\n",
            "Epoch 9/100\n",
            "40/40 [==============================] - 0s 8ms/step - loss: 3.0040e-05 - accuracy: 1.0000 - val_loss: 0.7413 - val_accuracy: 0.8313\n",
            "Epoch 10/100\n",
            "40/40 [==============================] - 0s 7ms/step - loss: 2.7797e-05 - accuracy: 1.0000 - val_loss: 0.7417 - val_accuracy: 0.8313\n",
            "Epoch 11/100\n",
            "40/40 [==============================] - 0s 8ms/step - loss: 5.2548e-05 - accuracy: 1.0000 - val_loss: 0.7554 - val_accuracy: 0.8250\n",
            "Epoch 12/100\n",
            "40/40 [==============================] - 0s 7ms/step - loss: 1.0245e-04 - accuracy: 1.0000 - val_loss: 0.7677 - val_accuracy: 0.8313\n",
            "Epoch 13/100\n",
            "40/40 [==============================] - 0s 8ms/step - loss: 2.4352e-05 - accuracy: 1.0000 - val_loss: 0.7622 - val_accuracy: 0.8313\n",
            "Epoch 14/100\n",
            "40/40 [==============================] - 0s 12ms/step - loss: 1.7240e-05 - accuracy: 1.0000 - val_loss: 0.7598 - val_accuracy: 0.8313\n",
            "Epoch 15/100\n",
            "40/40 [==============================] - 0s 6ms/step - loss: 4.1836e-05 - accuracy: 1.0000 - val_loss: 0.7942 - val_accuracy: 0.8313\n",
            "Epoch 16/100\n",
            "40/40 [==============================] - 0s 5ms/step - loss: 1.6399e-05 - accuracy: 1.0000 - val_loss: 0.7845 - val_accuracy: 0.8313\n",
            "Epoch 17/100\n",
            "40/40 [==============================] - 0s 7ms/step - loss: 1.9028e-05 - accuracy: 1.0000 - val_loss: 0.7804 - val_accuracy: 0.8250\n",
            "Epoch 18/100\n",
            "40/40 [==============================] - 0s 6ms/step - loss: 1.2521e-05 - accuracy: 1.0000 - val_loss: 0.7798 - val_accuracy: 0.8313\n",
            "Epoch 19/100\n",
            "40/40 [==============================] - 0s 6ms/step - loss: 1.5571e-05 - accuracy: 1.0000 - val_loss: 0.7775 - val_accuracy: 0.8313\n",
            "Epoch 20/100\n",
            "40/40 [==============================] - 0s 6ms/step - loss: 6.2204e-05 - accuracy: 1.0000 - val_loss: 0.7354 - val_accuracy: 0.8313\n",
            "Epoch 21/100\n",
            "40/40 [==============================] - 0s 6ms/step - loss: 2.3867e-05 - accuracy: 1.0000 - val_loss: 0.7366 - val_accuracy: 0.8313\n",
            "Epoch 22/100\n",
            "40/40 [==============================] - 0s 6ms/step - loss: 1.4524e-04 - accuracy: 1.0000 - val_loss: 0.7238 - val_accuracy: 0.8313\n",
            "Epoch 23/100\n",
            "40/40 [==============================] - 0s 7ms/step - loss: 1.5888e-05 - accuracy: 1.0000 - val_loss: 0.7213 - val_accuracy: 0.8188\n",
            "Epoch 24/100\n",
            "40/40 [==============================] - 0s 6ms/step - loss: 1.7380e-05 - accuracy: 1.0000 - val_loss: 0.7201 - val_accuracy: 0.8188\n",
            "Epoch 25/100\n",
            "40/40 [==============================] - 0s 4ms/step - loss: 7.6876e-06 - accuracy: 1.0000 - val_loss: 0.7225 - val_accuracy: 0.8125\n",
            "Epoch 26/100\n",
            "40/40 [==============================] - 0s 4ms/step - loss: 2.1039e-05 - accuracy: 1.0000 - val_loss: 0.7260 - val_accuracy: 0.8062\n",
            "Epoch 27/100\n",
            "40/40 [==============================] - 0s 5ms/step - loss: 1.5309e-05 - accuracy: 1.0000 - val_loss: 0.7315 - val_accuracy: 0.8313\n",
            "Epoch 28/100\n",
            "40/40 [==============================] - 0s 4ms/step - loss: 7.9580e-06 - accuracy: 1.0000 - val_loss: 0.7350 - val_accuracy: 0.8313\n",
            "Epoch 29/100\n",
            "40/40 [==============================] - 0s 4ms/step - loss: 1.1785e-05 - accuracy: 1.0000 - val_loss: 0.7389 - val_accuracy: 0.8313\n",
            "Epoch 30/100\n",
            "40/40 [==============================] - 0s 4ms/step - loss: 1.7173e-05 - accuracy: 1.0000 - val_loss: 0.7421 - val_accuracy: 0.8375\n",
            "Epoch 31/100\n",
            "40/40 [==============================] - 0s 4ms/step - loss: 7.1627e-06 - accuracy: 1.0000 - val_loss: 0.7428 - val_accuracy: 0.8375\n",
            "Epoch 32/100\n",
            "40/40 [==============================] - 0s 4ms/step - loss: 1.0010e-05 - accuracy: 1.0000 - val_loss: 0.7378 - val_accuracy: 0.8313\n",
            "Epoch 33/100\n",
            "40/40 [==============================] - 0s 5ms/step - loss: 6.0676e-06 - accuracy: 1.0000 - val_loss: 0.7389 - val_accuracy: 0.8313\n",
            "Epoch 34/100\n",
            "40/40 [==============================] - 0s 4ms/step - loss: 1.0514e-05 - accuracy: 1.0000 - val_loss: 0.7424 - val_accuracy: 0.8313\n",
            "Epoch 35/100\n",
            "40/40 [==============================] - 0s 4ms/step - loss: 7.1205e-06 - accuracy: 1.0000 - val_loss: 0.7441 - val_accuracy: 0.8313\n",
            "Epoch 36/100\n",
            "40/40 [==============================] - 0s 4ms/step - loss: 9.7517e-06 - accuracy: 1.0000 - val_loss: 0.7451 - val_accuracy: 0.8313\n",
            "Epoch 37/100\n",
            "40/40 [==============================] - 0s 4ms/step - loss: 1.1966e-05 - accuracy: 1.0000 - val_loss: 0.7494 - val_accuracy: 0.8250\n",
            "Epoch 38/100\n",
            "40/40 [==============================] - 0s 4ms/step - loss: 7.9074e-06 - accuracy: 1.0000 - val_loss: 0.7504 - val_accuracy: 0.8313\n",
            "Epoch 39/100\n",
            "40/40 [==============================] - 0s 5ms/step - loss: 3.4019e-06 - accuracy: 1.0000 - val_loss: 0.7507 - val_accuracy: 0.8313\n",
            "Epoch 40/100\n",
            "40/40 [==============================] - 0s 4ms/step - loss: 7.5338e-06 - accuracy: 1.0000 - val_loss: 0.7541 - val_accuracy: 0.8313\n",
            "Epoch 41/100\n",
            "40/40 [==============================] - 0s 4ms/step - loss: 1.0645e-05 - accuracy: 1.0000 - val_loss: 0.7591 - val_accuracy: 0.8313\n",
            "Epoch 42/100\n",
            "40/40 [==============================] - 0s 4ms/step - loss: 8.0147e-06 - accuracy: 1.0000 - val_loss: 0.7620 - val_accuracy: 0.8313\n",
            "Epoch 43/100\n",
            "40/40 [==============================] - 0s 4ms/step - loss: 1.2608e-05 - accuracy: 1.0000 - val_loss: 0.7707 - val_accuracy: 0.8313\n",
            "Epoch 44/100\n",
            "40/40 [==============================] - 0s 4ms/step - loss: 2.9338e-05 - accuracy: 1.0000 - val_loss: 0.7621 - val_accuracy: 0.8313\n",
            "Epoch 45/100\n",
            "40/40 [==============================] - 0s 5ms/step - loss: 1.3925e-05 - accuracy: 1.0000 - val_loss: 0.7691 - val_accuracy: 0.8313\n",
            "Epoch 46/100\n",
            "40/40 [==============================] - 0s 4ms/step - loss: 1.3342e-05 - accuracy: 1.0000 - val_loss: 0.7799 - val_accuracy: 0.8313\n",
            "Epoch 47/100\n",
            "40/40 [==============================] - 0s 4ms/step - loss: 6.2167e-06 - accuracy: 1.0000 - val_loss: 0.7784 - val_accuracy: 0.8313\n",
            "Epoch 48/100\n",
            "40/40 [==============================] - 0s 5ms/step - loss: 5.7176e-06 - accuracy: 1.0000 - val_loss: 0.7783 - val_accuracy: 0.8313\n",
            "Epoch 49/100\n",
            "40/40 [==============================] - 0s 4ms/step - loss: 1.9086e-05 - accuracy: 1.0000 - val_loss: 0.7635 - val_accuracy: 0.8313\n",
            "Epoch 50/100\n",
            "40/40 [==============================] - 0s 5ms/step - loss: 2.9760e-06 - accuracy: 1.0000 - val_loss: 0.7605 - val_accuracy: 0.8250\n",
            "Epoch 51/100\n",
            "40/40 [==============================] - 0s 4ms/step - loss: 1.0090e-05 - accuracy: 1.0000 - val_loss: 0.7639 - val_accuracy: 0.8250\n",
            "Epoch 52/100\n",
            "40/40 [==============================] - 0s 4ms/step - loss: 3.5792e-06 - accuracy: 1.0000 - val_loss: 0.7660 - val_accuracy: 0.8313\n",
            "Epoch 53/100\n",
            "40/40 [==============================] - 0s 4ms/step - loss: 1.8894e-05 - accuracy: 1.0000 - val_loss: 0.7604 - val_accuracy: 0.8313\n",
            "Epoch 54/100\n",
            "40/40 [==============================] - 0s 4ms/step - loss: 1.5462e-05 - accuracy: 1.0000 - val_loss: 0.7651 - val_accuracy: 0.8250\n",
            "Epoch 55/100\n",
            "40/40 [==============================] - 0s 4ms/step - loss: 2.7540e-05 - accuracy: 1.0000 - val_loss: 0.7724 - val_accuracy: 0.8188\n",
            "Epoch 56/100\n",
            "40/40 [==============================] - 0s 5ms/step - loss: 6.1391e-06 - accuracy: 1.0000 - val_loss: 0.7779 - val_accuracy: 0.8125\n",
            "Epoch 57/100\n",
            "40/40 [==============================] - 0s 4ms/step - loss: 7.8002e-06 - accuracy: 1.0000 - val_loss: 0.7797 - val_accuracy: 0.8125\n",
            "Epoch 58/100\n",
            "40/40 [==============================] - 0s 4ms/step - loss: 1.2812e-05 - accuracy: 1.0000 - val_loss: 0.7781 - val_accuracy: 0.8188\n",
            "Epoch 59/100\n",
            "40/40 [==============================] - 0s 4ms/step - loss: 4.6673e-06 - accuracy: 1.0000 - val_loss: 0.7801 - val_accuracy: 0.8125\n",
            "Epoch 60/100\n",
            "40/40 [==============================] - 0s 4ms/step - loss: 4.4926e-06 - accuracy: 1.0000 - val_loss: 0.7797 - val_accuracy: 0.8125\n",
            "Epoch 61/100\n",
            "40/40 [==============================] - 0s 4ms/step - loss: 4.1463e-06 - accuracy: 1.0000 - val_loss: 0.7808 - val_accuracy: 0.8188\n",
            "Epoch 62/100\n",
            "40/40 [==============================] - 0s 5ms/step - loss: 4.4169e-06 - accuracy: 1.0000 - val_loss: 0.7822 - val_accuracy: 0.8188\n",
            "Epoch 63/100\n",
            "40/40 [==============================] - 0s 4ms/step - loss: 7.6799e-06 - accuracy: 1.0000 - val_loss: 0.7838 - val_accuracy: 0.8188\n",
            "Epoch 64/100\n",
            "40/40 [==============================] - 0s 4ms/step - loss: 1.0451e-05 - accuracy: 1.0000 - val_loss: 0.7852 - val_accuracy: 0.8125\n",
            "Epoch 65/100\n",
            "40/40 [==============================] - 0s 4ms/step - loss: 4.4999e-06 - accuracy: 1.0000 - val_loss: 0.7868 - val_accuracy: 0.8062\n",
            "Epoch 66/100\n",
            "40/40 [==============================] - 0s 4ms/step - loss: 8.5616e-06 - accuracy: 1.0000 - val_loss: 0.7881 - val_accuracy: 0.8125\n",
            "Epoch 67/100\n",
            "40/40 [==============================] - 0s 4ms/step - loss: 3.2242e-06 - accuracy: 1.0000 - val_loss: 0.7900 - val_accuracy: 0.8125\n",
            "Epoch 68/100\n",
            "40/40 [==============================] - 0s 5ms/step - loss: 3.3625e-06 - accuracy: 1.0000 - val_loss: 0.7916 - val_accuracy: 0.8125\n",
            "Epoch 69/100\n",
            "40/40 [==============================] - 0s 4ms/step - loss: 8.5100e-06 - accuracy: 1.0000 - val_loss: 0.7923 - val_accuracy: 0.8250\n",
            "Epoch 70/100\n",
            "40/40 [==============================] - 0s 4ms/step - loss: 7.3010e-06 - accuracy: 1.0000 - val_loss: 0.7932 - val_accuracy: 0.8250\n",
            "Epoch 71/100\n",
            "40/40 [==============================] - 0s 4ms/step - loss: 5.4919e-06 - accuracy: 1.0000 - val_loss: 0.7936 - val_accuracy: 0.8125\n",
            "Epoch 72/100\n",
            "40/40 [==============================] - 0s 4ms/step - loss: 2.8944e-06 - accuracy: 1.0000 - val_loss: 0.7945 - val_accuracy: 0.8125\n",
            "Epoch 73/100\n",
            "40/40 [==============================] - 0s 4ms/step - loss: 3.8036e-06 - accuracy: 1.0000 - val_loss: 0.7964 - val_accuracy: 0.8125\n",
            "Epoch 74/100\n",
            "40/40 [==============================] - 0s 5ms/step - loss: 2.8800e-06 - accuracy: 1.0000 - val_loss: 0.7965 - val_accuracy: 0.8125\n",
            "Epoch 75/100\n",
            "40/40 [==============================] - 0s 4ms/step - loss: 3.4555e-06 - accuracy: 1.0000 - val_loss: 0.7981 - val_accuracy: 0.8125\n",
            "Epoch 76/100\n",
            "40/40 [==============================] - 0s 4ms/step - loss: 1.4862e-05 - accuracy: 1.0000 - val_loss: 0.8035 - val_accuracy: 0.8250\n",
            "Epoch 77/100\n",
            "40/40 [==============================] - 0s 4ms/step - loss: 3.4429e-06 - accuracy: 1.0000 - val_loss: 0.8057 - val_accuracy: 0.8250\n",
            "Epoch 78/100\n",
            "40/40 [==============================] - 0s 4ms/step - loss: 1.5857e-06 - accuracy: 1.0000 - val_loss: 0.8076 - val_accuracy: 0.8250\n",
            "Epoch 79/100\n",
            "40/40 [==============================] - 0s 4ms/step - loss: 3.1750e-06 - accuracy: 1.0000 - val_loss: 0.8032 - val_accuracy: 0.8313\n",
            "Epoch 80/100\n",
            "40/40 [==============================] - 0s 4ms/step - loss: 2.3649e-06 - accuracy: 1.0000 - val_loss: 0.8044 - val_accuracy: 0.8313\n",
            "Epoch 81/100\n",
            "40/40 [==============================] - 0s 4ms/step - loss: 3.1229e-06 - accuracy: 1.0000 - val_loss: 0.8049 - val_accuracy: 0.8313\n",
            "Epoch 82/100\n",
            "40/40 [==============================] - 0s 4ms/step - loss: 3.2789e-06 - accuracy: 1.0000 - val_loss: 0.8047 - val_accuracy: 0.8250\n",
            "Epoch 83/100\n",
            "40/40 [==============================] - 0s 6ms/step - loss: 7.2513e-06 - accuracy: 1.0000 - val_loss: 0.8127 - val_accuracy: 0.8313\n",
            "Epoch 84/100\n",
            "40/40 [==============================] - 0s 6ms/step - loss: 6.5677e-06 - accuracy: 1.0000 - val_loss: 0.8103 - val_accuracy: 0.8313\n",
            "Epoch 85/100\n",
            "40/40 [==============================] - 0s 7ms/step - loss: 3.1134e-06 - accuracy: 1.0000 - val_loss: 0.8093 - val_accuracy: 0.8250\n",
            "Epoch 86/100\n",
            "40/40 [==============================] - 0s 6ms/step - loss: 1.9730e-06 - accuracy: 1.0000 - val_loss: 0.8111 - val_accuracy: 0.8250\n",
            "Epoch 87/100\n",
            "40/40 [==============================] - 0s 5ms/step - loss: 3.0711e-06 - accuracy: 1.0000 - val_loss: 0.8135 - val_accuracy: 0.8250\n",
            "Epoch 88/100\n",
            "40/40 [==============================] - 0s 6ms/step - loss: 6.8013e-06 - accuracy: 1.0000 - val_loss: 0.8142 - val_accuracy: 0.8188\n",
            "Epoch 89/100\n",
            "40/40 [==============================] - 0s 7ms/step - loss: 3.6022e-06 - accuracy: 1.0000 - val_loss: 0.8168 - val_accuracy: 0.8062\n",
            "Epoch 90/100\n",
            "40/40 [==============================] - 0s 7ms/step - loss: 1.8821e-06 - accuracy: 1.0000 - val_loss: 0.8186 - val_accuracy: 0.8062\n",
            "Epoch 91/100\n",
            "40/40 [==============================] - 0s 7ms/step - loss: 4.2373e-06 - accuracy: 1.0000 - val_loss: 0.8224 - val_accuracy: 0.8125\n",
            "Epoch 92/100\n",
            "40/40 [==============================] - 0s 6ms/step - loss: 3.7359e-06 - accuracy: 1.0000 - val_loss: 0.8242 - val_accuracy: 0.8062\n",
            "Epoch 93/100\n",
            "40/40 [==============================] - 0s 6ms/step - loss: 4.0385e-06 - accuracy: 1.0000 - val_loss: 0.8431 - val_accuracy: 0.8188\n",
            "Epoch 94/100\n",
            "40/40 [==============================] - 0s 4ms/step - loss: 2.5331e-05 - accuracy: 1.0000 - val_loss: 0.9010 - val_accuracy: 0.8375\n",
            "Epoch 95/100\n",
            "40/40 [==============================] - 0s 4ms/step - loss: 2.9544e-06 - accuracy: 1.0000 - val_loss: 0.8975 - val_accuracy: 0.8375\n",
            "Epoch 96/100\n",
            "40/40 [==============================] - 0s 4ms/step - loss: 6.8389e-06 - accuracy: 1.0000 - val_loss: 0.8750 - val_accuracy: 0.8313\n",
            "Epoch 97/100\n",
            "40/40 [==============================] - 0s 4ms/step - loss: 3.0911e-06 - accuracy: 1.0000 - val_loss: 0.8790 - val_accuracy: 0.8313\n",
            "Epoch 98/100\n",
            "40/40 [==============================] - 0s 5ms/step - loss: 1.4283e-05 - accuracy: 1.0000 - val_loss: 0.9071 - val_accuracy: 0.8313\n",
            "Epoch 99/100\n",
            "40/40 [==============================] - 0s 4ms/step - loss: 4.5762e-06 - accuracy: 1.0000 - val_loss: 0.9363 - val_accuracy: 0.8313\n",
            "Epoch 100/100\n",
            "40/40 [==============================] - 0s 4ms/step - loss: 5.6542e-06 - accuracy: 1.0000 - val_loss: 0.9417 - val_accuracy: 0.8313\n"
          ]
        }
      ]
    },
    {
      "cell_type": "code",
      "source": [],
      "metadata": {
        "id": "TGDw3YwxUz18"
      },
      "execution_count": null,
      "outputs": []
    },
    {
      "cell_type": "markdown",
      "source": [
        "### Learning curve\n"
      ],
      "metadata": {
        "id": "t_0ymEqbVKtU"
      }
    },
    {
      "cell_type": "code",
      "source": [
        "import matplotlib.pyplot as plt\n",
        "plt.figure(figsize=(10, 5))\n",
        "plt.plot(hist.history['loss'], label='Train Loss')\n",
        "plt.plot(hist.history['val_loss'], label='Validation Loss')\n",
        "plt.xlabel('epochs')\n",
        "plt.ylabel('Binary Crossentropy loss')\n",
        "plt.legend()\n",
        "plt.show()\n",
        "\n"
      ],
      "metadata": {
        "colab": {
          "base_uri": "https://localhost:8080/",
          "height": 465
        },
        "id": "TA7tHQosVNXb",
        "outputId": "693cd3c4-aa3c-4ca7-fbbd-818cf50cfede"
      },
      "execution_count": 43,
      "outputs": [
        {
          "output_type": "display_data",
          "data": {
            "text/plain": [
              "<Figure size 1000x500 with 1 Axes>"
            ],
            "image/png": "[encoded data removed]"
          },
          "metadata": {}
        }
      ]
    },
    {
      "cell_type": "code",
      "source": [],
      "metadata": {
        "id": "8XBKbY1-VSIJ"
      },
      "execution_count": null,
      "outputs": []
    },
    {
      "cell_type": "markdown",
      "source": [
        "### Evaluate the model\n"
      ],
      "metadata": {
        "id": "XdgXuufhVWs_"
      }
    },
    {
      "cell_type": "code",
      "source": [
        "model.evaluate(x_train,y_train)"
      ],
      "metadata": {
        "colab": {
          "base_uri": "https://localhost:8080/"
        },
        "id": "VJOP00DBVZEb",
        "outputId": "06c0bebf-4107-48a0-febe-043c7636adac"
      },
      "execution_count": 44,
      "outputs": [
        {
          "output_type": "stream",
          "name": "stdout",
          "text": [
            "25/25 [==============================] - 1s 8ms/step - loss: 0.1883 - accuracy: 0.9663\n"
          ]
        },
        {
          "output_type": "execute_result",
          "data": {
            "text/plain": [
              "[0.18833045661449432, 0.9662500023841858]"
            ]
          },
          "metadata": {},
          "execution_count": 44
        }
      ]
    },
    {
      "cell_type": "code",
      "source": [
        "model.evaluate(x_test,y_test)"
      ],
      "metadata": {
        "colab": {
          "base_uri": "https://localhost:8080/"
        },
        "id": "cQvJsKoHVfZj",
        "outputId": "a139d0a8-771f-4667-e891-3511d6245987"
      },
      "execution_count": 46,
      "outputs": [
        {
          "output_type": "stream",
          "name": "stdout",
          "text": [
            "7/7 [==============================] - 0s 4ms/step - loss: 1.5228 - accuracy: 0.7700\n"
          ]
        },
        {
          "output_type": "execute_result",
          "data": {
            "text/plain": [
              "[1.5227910280227661, 0.7699999809265137]"
            ]
          },
          "metadata": {},
          "execution_count": 46
        }
      ]
    },
    {
      "cell_type": "code",
      "source": [],
      "metadata": {
        "id": "4k0kZnJFVm6v"
      },
      "execution_count": null,
      "outputs": []
    },
    {
      "cell_type": "markdown",
      "source": [
        "###Predict results for train and test\n"
      ],
      "metadata": {
        "id": "QvcGVUcGVwio"
      }
    },
    {
      "cell_type": "code",
      "source": [
        "yprob_train = model.predict(x_train)\n",
        "yprob_test = model.predict(x_test)"
      ],
      "metadata": {
        "colab": {
          "base_uri": "https://localhost:8080/"
        },
        "id": "cVyLfnCUVyTP",
        "outputId": "3f0700cf-5469-4c21-abf8-5b36c694ffda"
      },
      "execution_count": 47,
      "outputs": [
        {
          "output_type": "stream",
          "name": "stdout",
          "text": [
            "25/25 [==============================] - 0s 2ms/step\n",
            "7/7 [==============================] - 0s 3ms/step\n"
          ]
        }
      ]
    },
    {
      "cell_type": "code",
      "source": [
        "yprob_train[0:5]"
      ],
      "metadata": {
        "colab": {
          "base_uri": "https://localhost:8080/"
        },
        "id": "DXidTHF1V9jN",
        "outputId": "ee8f8dc8-6694-4285-dcf8-883d9f4369fc"
      },
      "execution_count": 48,
      "outputs": [
        {
          "output_type": "execute_result",
          "data": {
            "text/plain": [
              "array([[1.0000000e+00],\n",
              "       [5.3599558e-07],\n",
              "       [2.6462608e-09],\n",
              "       [1.0000000e+00],\n",
              "       [1.0000000e+00]], dtype=float32)"
            ]
          },
          "metadata": {},
          "execution_count": 48
        }
      ]
    },
    {
      "cell_type": "code",
      "source": [
        "ypred_train = [1 if prob>=0.5 else 0 for prob in yprob_train]\n",
        "ypred_test = [1 if prob>=0.5 else 0 for prob in yprob_test]"
      ],
      "metadata": {
        "id": "HXxrhsneWDH9"
      },
      "execution_count": 50,
      "outputs": []
    },
    {
      "cell_type": "code",
      "source": [
        "from sklearn.metrics import ConfusionMatrixDisplay\n",
        "ConfusionMatrixDisplay.from_predictions(y_test,ypred_test)"
      ],
      "metadata": {
        "colab": {
          "base_uri": "https://localhost:8080/",
          "height": 466
        },
        "id": "T-w5GTAyWGv0",
        "outputId": "7e2d680b-4c08-4d1e-9336-c066514b1dd4"
      },
      "execution_count": 51,
      "outputs": [
        {
          "output_type": "execute_result",
          "data": {
            "text/plain": [
              "<sklearn.metrics._plot.confusion_matrix.ConfusionMatrixDisplay at 0x79596c3e3dc0>"
            ]
          },
          "metadata": {},
          "execution_count": 51
        },
        {
          "output_type": "display_data",
          "data": {
            "text/plain": [
              "<Figure size 640x480 with 2 Axes>"
            ],
            "image/png": "[encoded data removed]"
          },
          "metadata": {}
        }
      ]
    },
    {
      "cell_type": "code",
      "source": [
        "from sklearn.metrics import classification_report\n",
        "print(classification_report(y_test,ypred_test))"
      ],
      "metadata": {
        "colab": {
          "base_uri": "https://localhost:8080/"
        },
        "id": "QoMhMQNjXNzn",
        "outputId": "7aabf21c-81aa-42de-b076-6c54b3534d3f"
      },
      "execution_count": 52,
      "outputs": [
        {
          "output_type": "stream",
          "name": "stdout",
          "text": [
            "              precision    recall  f1-score   support\n",
            "\n",
            "           0       0.84      0.70      0.77       108\n",
            "           1       0.71      0.85      0.77        92\n",
            "\n",
            "    accuracy                           0.77       200\n",
            "   macro avg       0.78      0.78      0.77       200\n",
            "weighted avg       0.78      0.77      0.77       200\n",
            "\n"
          ]
        }
      ]
    },
    {
      "cell_type": "code",
      "source": [
        "from sklearn.metrics import confusion_matrix\n",
        "confusion_matrix(y_train,ypred_train)"
      ],
      "metadata": {
        "colab": {
          "base_uri": "https://localhost:8080/"
        },
        "id": "2leUlgzLXpbA",
        "outputId": "90534e1a-71e2-41dc-f72b-d45a64909a28"
      },
      "execution_count": 54,
      "outputs": [
        {
          "output_type": "execute_result",
          "data": {
            "text/plain": [
              "array([[372,  20],\n",
              "       [  7, 401]])"
            ]
          },
          "metadata": {},
          "execution_count": 54
        }
      ]
    },
    {
      "cell_type": "code",
      "source": [],
      "metadata": {
        "id": "fhWn9kTJXwcx"
      },
      "execution_count": 56,
      "outputs": []
    },
    {
      "cell_type": "markdown",
      "source": [
        "### Save the model for future use\n"
      ],
      "metadata": {
        "id": "-SvAb8NeX-Ql"
      }
    },
    {
      "cell_type": "code",
      "source": [
        "model.save(\"SentimentModel.keras\")\n"
      ],
      "metadata": {
        "id": "bOs1RmtJX7R2"
      },
      "execution_count": 57,
      "outputs": []
    },
    {
      "cell_type": "markdown",
      "source": [
        "### Load the model\n"
      ],
      "metadata": {
        "id": "2LRk88YKYH0M"
      }
    },
    {
      "cell_type": "code",
      "source": [
        "from keras.models import load_model"
      ],
      "metadata": {
        "id": "HOZBcQkBYKb3"
      },
      "execution_count": 59,
      "outputs": []
    },
    {
      "cell_type": "code",
      "source": [
        "nn = load_model(\"/content/SentimentModel.keras\")\n",
        "nn.summary()"
      ],
      "metadata": {
        "colab": {
          "base_uri": "https://localhost:8080/"
        },
        "id": "cPu3E8pQYbjS",
        "outputId": "8334ac04-3f89-4b41-9058-fc27c69addf9"
      },
      "execution_count": 60,
      "outputs": [
        {
          "output_type": "stream",
          "name": "stdout",
          "text": [
            "Model: \"sequential_1\"\n",
            "_________________________________________________________________\n",
            " Layer (type)                Output Shape              Param #   \n",
            "=================================================================\n",
            " dense (Dense)               (None, 256)               516352    \n",
            "                                                                 \n",
            " dropout (Dropout)           (None, 256)               0         \n",
            "                                                                 \n",
            " dense_1 (Dense)             (None, 128)               32896     \n",
            "                                                                 \n",
            " dropout_1 (Dropout)         (None, 128)               0         \n",
            "                                                                 \n",
            " dense_2 (Dense)             (None, 1)                 129       \n",
            "                                                                 \n",
            "=================================================================\n",
            "Total params: 549377 (2.10 MB)\n",
            "Trainable params: 549377 (2.10 MB)\n",
            "Non-trainable params: 0 (0.00 Byte)\n",
            "_________________________________________________________________\n"
          ]
        }
      ]
    },
    {
      "cell_type": "code",
      "source": [],
      "metadata": {
        "id": "4Sg-WNMPbeDL"
      },
      "execution_count": null,
      "outputs": []
    },
    {
      "cell_type": "markdown",
      "source": [
        "### Out of sample prediction\n"
      ],
      "metadata": {
        "id": "pVNyhhrxbjH0"
      }
    },
    {
      "cell_type": "code",
      "source": [
        "s = \"very testy food\"\n",
        "t = tfidf.transform([s]).toarray()\n",
        "t"
      ],
      "metadata": {
        "colab": {
          "base_uri": "https://localhost:8080/"
        },
        "id": "EW7RrShxboxt",
        "outputId": "bef123a9-0fc7-47b7-ad4d-fea05de045bc"
      },
      "execution_count": 61,
      "outputs": [
        {
          "output_type": "execute_result",
          "data": {
            "text/plain": [
              "array([[0., 0., 0., ..., 0., 0., 0.]])"
            ]
          },
          "metadata": {},
          "execution_count": 61
        }
      ]
    },
    {
      "cell_type": "code",
      "source": [
        "model.predict(t)"
      ],
      "metadata": {
        "colab": {
          "base_uri": "https://localhost:8080/"
        },
        "id": "3dSj79khcsRl",
        "outputId": "d8b389bf-26c7-4966-ad52-885a40d9198b"
      },
      "execution_count": 62,
      "outputs": [
        {
          "output_type": "stream",
          "name": "stdout",
          "text": [
            "1/1 [==============================] - 0s 50ms/step\n"
          ]
        },
        {
          "output_type": "execute_result",
          "data": {
            "text/plain": [
              "array([[0.9995172]], dtype=float32)"
            ]
          },
          "metadata": {},
          "execution_count": 62
        }
      ]
    },
    {
      "cell_type": "code",
      "source": [
        "def predict_sentiment():\n",
        "  text = input(\"Please enter restuaraunt review : \")\n",
        "  text = preprocess_text(text)\n",
        "  text_pre = tfidf.transform([text]).toarray()\n",
        "  prob = model.predict(text_pre)\n",
        "  if prob>=0.5:\n",
        "    print(\"Positive Review\")\n",
        "  else:\n",
        "    print(\"Negative Review\")\n",
        "  return prob"
      ],
      "metadata": {
        "id": "lmtykJ4Bc2Ft"
      },
      "execution_count": 67,
      "outputs": []
    },
    {
      "cell_type": "code",
      "source": [
        "predict_sentiment()"
      ],
      "metadata": {
        "colab": {
          "base_uri": "https://localhost:8080/"
        },
        "id": "DQXS_KNIcxA4",
        "outputId": "a205263b-01e4-4688-89f4-8891590f3941"
      },
      "execution_count": 69,
      "outputs": [
        {
          "output_type": "stream",
          "name": "stdout",
          "text": [
            "Please enter restuaraunt review : i love food\n",
            "1/1 [==============================] - 0s 25ms/step\n",
            "Positive Review\n"
          ]
        },
        {
          "output_type": "execute_result",
          "data": {
            "text/plain": [
              "array([[1.]], dtype=float32)"
            ]
          },
          "metadata": {},
          "execution_count": 69
        }
      ]
    },
    {
      "cell_type": "code",
      "source": [],
      "metadata": {
        "id": "bwVHaBaudZd8"
      },
      "execution_count": 69,
      "outputs": []
    }
  ]
}